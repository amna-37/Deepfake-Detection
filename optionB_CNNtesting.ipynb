{
  "nbformat": 4,
  "nbformat_minor": 0,
  "metadata": {
    "colab": {
      "provenance": [],
      "toc_visible": true
    },
    "kernelspec": {
      "name": "python3",
      "display_name": "Python 3"
    },
    "language_info": {
      "name": "python"
    },
    "accelerator": "GPU",
    "widgets": {
      "application/vnd.jupyter.widget-state+json": {
        "8d87fb879fdc4b98a8d2a91cd0187f5b": {
          "model_module": "@jupyter-widgets/controls",
          "model_name": "HBoxModel",
          "state": {
            "_view_name": "HBoxView",
            "_dom_classes": [],
            "_model_name": "HBoxModel",
            "_view_module": "@jupyter-widgets/controls",
            "_model_module_version": "1.5.0",
            "_view_count": null,
            "_view_module_version": "1.5.0",
            "box_style": "",
            "layout": "IPY_MODEL_8fb201341ac74243a4d55b29a2bd5a8f",
            "_model_module": "@jupyter-widgets/controls",
            "children": [
              "IPY_MODEL_65812ed812754abda2ce062c73462d60",
              "IPY_MODEL_f18dd974e70041efb8d333b21c148b0f"
            ]
          },
          "model_module_version": "1.5.0"
        },
        "8fb201341ac74243a4d55b29a2bd5a8f": {
          "model_module": "@jupyter-widgets/base",
          "model_name": "LayoutModel",
          "state": {
            "_view_name": "LayoutView",
            "grid_template_rows": null,
            "right": null,
            "justify_content": null,
            "_view_module": "@jupyter-widgets/base",
            "overflow": null,
            "_model_module_version": "1.2.0",
            "_view_count": null,
            "flex_flow": null,
            "width": null,
            "min_width": null,
            "border": null,
            "align_items": null,
            "bottom": null,
            "_model_module": "@jupyter-widgets/base",
            "top": null,
            "grid_column": null,
            "overflow_y": null,
            "overflow_x": null,
            "grid_auto_flow": null,
            "grid_area": null,
            "grid_template_columns": null,
            "flex": null,
            "_model_name": "LayoutModel",
            "justify_items": null,
            "grid_row": null,
            "max_height": null,
            "align_content": null,
            "visibility": null,
            "align_self": null,
            "height": null,
            "min_height": null,
            "padding": null,
            "grid_auto_rows": null,
            "grid_gap": null,
            "max_width": null,
            "order": null,
            "_view_module_version": "1.2.0",
            "grid_template_areas": null,
            "object_position": null,
            "object_fit": null,
            "grid_auto_columns": null,
            "margin": null,
            "display": null,
            "left": null
          },
          "model_module_version": "1.2.0"
        },
        "65812ed812754abda2ce062c73462d60": {
          "model_module": "@jupyter-widgets/controls",
          "model_name": "FloatProgressModel",
          "state": {
            "_view_name": "ProgressView",
            "style": "IPY_MODEL_c324cf7a06ae4d11a76d7bdda19940b1",
            "_dom_classes": [],
            "description": "100%",
            "_model_name": "FloatProgressModel",
            "bar_style": "success",
            "max": 102502400,
            "_view_module": "@jupyter-widgets/controls",
            "_model_module_version": "1.5.0",
            "value": 102502400,
            "_view_count": null,
            "_view_module_version": "1.5.0",
            "orientation": "horizontal",
            "min": 0,
            "description_tooltip": null,
            "_model_module": "@jupyter-widgets/controls",
            "layout": "IPY_MODEL_8392b787cd8d4f418700edc1077e26eb"
          },
          "model_module_version": "1.5.0"
        },
        "f18dd974e70041efb8d333b21c148b0f": {
          "model_module": "@jupyter-widgets/controls",
          "model_name": "HTMLModel",
          "state": {
            "_view_name": "HTMLView",
            "style": "IPY_MODEL_fc7e55753c5f49589eb2088b14ecca56",
            "_dom_classes": [],
            "description": "",
            "_model_name": "HTMLModel",
            "placeholder": "​",
            "_view_module": "@jupyter-widgets/controls",
            "_model_module_version": "1.5.0",
            "value": " 97.8M/97.8M [00:04&lt;00:00, 22.2MB/s]",
            "_view_count": null,
            "_view_module_version": "1.5.0",
            "description_tooltip": null,
            "_model_module": "@jupyter-widgets/controls",
            "layout": "IPY_MODEL_c866e9d356504d4594390c470bc3598f"
          },
          "model_module_version": "1.5.0"
        },
        "c324cf7a06ae4d11a76d7bdda19940b1": {
          "model_module": "@jupyter-widgets/controls",
          "model_name": "ProgressStyleModel",
          "state": {
            "_view_name": "StyleView",
            "_model_name": "ProgressStyleModel",
            "description_width": "initial",
            "_view_module": "@jupyter-widgets/base",
            "_model_module_version": "1.5.0",
            "_view_count": null,
            "_view_module_version": "1.2.0",
            "bar_color": null,
            "_model_module": "@jupyter-widgets/controls"
          },
          "model_module_version": "1.5.0"
        },
        "8392b787cd8d4f418700edc1077e26eb": {
          "model_module": "@jupyter-widgets/base",
          "model_name": "LayoutModel",
          "state": {
            "_view_name": "LayoutView",
            "grid_template_rows": null,
            "right": null,
            "justify_content": null,
            "_view_module": "@jupyter-widgets/base",
            "overflow": null,
            "_model_module_version": "1.2.0",
            "_view_count": null,
            "flex_flow": null,
            "width": null,
            "min_width": null,
            "border": null,
            "align_items": null,
            "bottom": null,
            "_model_module": "@jupyter-widgets/base",
            "top": null,
            "grid_column": null,
            "overflow_y": null,
            "overflow_x": null,
            "grid_auto_flow": null,
            "grid_area": null,
            "grid_template_columns": null,
            "flex": null,
            "_model_name": "LayoutModel",
            "justify_items": null,
            "grid_row": null,
            "max_height": null,
            "align_content": null,
            "visibility": null,
            "align_self": null,
            "height": null,
            "min_height": null,
            "padding": null,
            "grid_auto_rows": null,
            "grid_gap": null,
            "max_width": null,
            "order": null,
            "_view_module_version": "1.2.0",
            "grid_template_areas": null,
            "object_position": null,
            "object_fit": null,
            "grid_auto_columns": null,
            "margin": null,
            "display": null,
            "left": null
          },
          "model_module_version": "1.2.0"
        },
        "fc7e55753c5f49589eb2088b14ecca56": {
          "model_module": "@jupyter-widgets/controls",
          "model_name": "DescriptionStyleModel",
          "state": {
            "_view_name": "StyleView",
            "_model_name": "DescriptionStyleModel",
            "description_width": "",
            "_view_module": "@jupyter-widgets/base",
            "_model_module_version": "1.5.0",
            "_view_count": null,
            "_view_module_version": "1.2.0",
            "_model_module": "@jupyter-widgets/controls"
          },
          "model_module_version": "1.5.0"
        },
        "c866e9d356504d4594390c470bc3598f": {
          "model_module": "@jupyter-widgets/base",
          "model_name": "LayoutModel",
          "state": {
            "_view_name": "LayoutView",
            "grid_template_rows": null,
            "right": null,
            "justify_content": null,
            "_view_module": "@jupyter-widgets/base",
            "overflow": null,
            "_model_module_version": "1.2.0",
            "_view_count": null,
            "flex_flow": null,
            "width": null,
            "min_width": null,
            "border": null,
            "align_items": null,
            "bottom": null,
            "_model_module": "@jupyter-widgets/base",
            "top": null,
            "grid_column": null,
            "overflow_y": null,
            "overflow_x": null,
            "grid_auto_flow": null,
            "grid_area": null,
            "grid_template_columns": null,
            "flex": null,
            "_model_name": "LayoutModel",
            "justify_items": null,
            "grid_row": null,
            "max_height": null,
            "align_content": null,
            "visibility": null,
            "align_self": null,
            "height": null,
            "min_height": null,
            "padding": null,
            "grid_auto_rows": null,
            "grid_gap": null,
            "max_width": null,
            "order": null,
            "_view_module_version": "1.2.0",
            "grid_template_areas": null,
            "object_position": null,
            "object_fit": null,
            "grid_auto_columns": null,
            "margin": null,
            "display": null,
            "left": null
          },
          "model_module_version": "1.2.0"
        }
      }
    }
  },
  "cells": [
    {
      "cell_type": "code",
      "metadata": {
        "colab": {
          "base_uri": "https://localhost:8080/"
        },
        "id": "b_LidwuASfox",
        "outputId": "2fc21ae7-005e-471c-e731-9d96187124c0"
      },
      "source": [
        "from google.colab import drive\n",
        "drive.mount('/content/gdrive')"
      ],
      "execution_count": null,
      "outputs": [
        {
          "output_type": "stream",
          "text": [
            "Mounted at /content/gdrive\n"
          ],
          "name": "stdout"
        }
      ]
    },
    {
      "cell_type": "code",
      "metadata": {
        "colab": {
          "base_uri": "https://localhost:8080/"
        },
        "id": "4p2PprrUuZUa",
        "outputId": "b08a3448-e305-43e1-d7fa-2315c1df6eb1"
      },
      "source": [
        "!pip install facenet_pytorch"
      ],
      "execution_count": null,
      "outputs": [
        {
          "output_type": "stream",
          "text": [
            "Collecting facenet_pytorch\n",
            "\u001b[?25l  Downloading https://files.pythonhosted.org/packages/18/e8/5ea742737665ba9396a8a2be3d2e2b49a13804b56a7e7bb101e8731ade8f/facenet_pytorch-2.5.2-py3-none-any.whl (1.9MB)\n",
            "\u001b[K     |████████████████████████████████| 1.9MB 7.7MB/s \n",
            "\u001b[?25hRequirement already satisfied: requests in /usr/local/lib/python3.7/dist-packages (from facenet_pytorch) (2.23.0)\n",
            "Requirement already satisfied: torchvision in /usr/local/lib/python3.7/dist-packages (from facenet_pytorch) (0.9.1+cu101)\n",
            "Requirement already satisfied: numpy in /usr/local/lib/python3.7/dist-packages (from facenet_pytorch) (1.19.5)\n",
            "Requirement already satisfied: pillow in /usr/local/lib/python3.7/dist-packages (from facenet_pytorch) (7.1.2)\n",
            "Requirement already satisfied: idna<3,>=2.5 in /usr/local/lib/python3.7/dist-packages (from requests->facenet_pytorch) (2.10)\n",
            "Requirement already satisfied: urllib3!=1.25.0,!=1.25.1,<1.26,>=1.21.1 in /usr/local/lib/python3.7/dist-packages (from requests->facenet_pytorch) (1.24.3)\n",
            "Requirement already satisfied: chardet<4,>=3.0.2 in /usr/local/lib/python3.7/dist-packages (from requests->facenet_pytorch) (3.0.4)\n",
            "Requirement already satisfied: certifi>=2017.4.17 in /usr/local/lib/python3.7/dist-packages (from requests->facenet_pytorch) (2020.12.5)\n",
            "Requirement already satisfied: torch==1.8.1 in /usr/local/lib/python3.7/dist-packages (from torchvision->facenet_pytorch) (1.8.1+cu101)\n",
            "Requirement already satisfied: typing-extensions in /usr/local/lib/python3.7/dist-packages (from torch==1.8.1->torchvision->facenet_pytorch) (3.7.4.3)\n",
            "Installing collected packages: facenet-pytorch\n",
            "Successfully installed facenet-pytorch-2.5.2\n"
          ],
          "name": "stdout"
        }
      ]
    },
    {
      "cell_type": "code",
      "metadata": {
        "colab": {
          "base_uri": "https://localhost:8080/"
        },
        "id": "ymjbXXYAtuE_",
        "outputId": "f0753656-000d-4e32-f369-567c9b310991"
      },
      "source": [
        "import torch\n",
        "from PIL import Image\n",
        "import torch.nn as nn\n",
        "import torch.optim as optim\n",
        "from torch.optim import lr_scheduler\n",
        "import numpy as np\n",
        "import torchvision\n",
        "from torchvision import datasets, models, transforms\n",
        "from facenet_pytorch import MTCNN\n",
        "import cv2\n",
        "from tqdm import tqdm\n",
        "import os\n",
        "import copy\n",
        "import math\n",
        "\n",
        "device = torch.device('cuda:0' if torch.cuda.is_available() else 'cpu')\n",
        "print('Running on device: {}'.format(device))"
      ],
      "execution_count": null,
      "outputs": [
        {
          "output_type": "stream",
          "text": [
            "Running on device: cuda:0\n"
          ],
          "name": "stdout"
        }
      ]
    },
    {
      "cell_type": "code",
      "metadata": {
        "id": "cvuH5pb2lZVw"
      },
      "source": [
        "if not os.path.exists('/content/tempOutput/'): # model makes use of this as sort of temporary\n",
        "    os.makedirs('/content/tempOutput/')         # storage (stores extracted frames from video before run prediction on them)"
      ],
      "execution_count": null,
      "outputs": []
    },
    {
      "cell_type": "markdown",
      "metadata": {
        "id": "DiXDeyNBmqTE"
      },
      "source": [
        "**direct unzip from drive to colab. (no need to copy first to colab and then unzipping)**"
      ]
    },
    {
      "cell_type": "code",
      "metadata": {
        "id": "vjgGJDDcd_Uv"
      },
      "source": [
        "!unzip '/content/gdrive/MyDrive/optionB_blah_testSet/optionB_blah_testSet.zip' -d '/content/'"
      ],
      "execution_count": null,
      "outputs": []
    },
    {
      "cell_type": "markdown",
      "metadata": {
        "id": "Q7bNGW6Vm2NN"
      },
      "source": [
        "**rename the folder here, instead of changing it everywhere in the code (lol)**"
      ]
    },
    {
      "cell_type": "code",
      "metadata": {
        "id": "rFw_Sywzllxk"
      },
      "source": [
        "os.rename('/content/optionB_blah_testSet', '/content/unprocessedTestData')"
      ],
      "execution_count": null,
      "outputs": []
    },
    {
      "cell_type": "markdown",
      "metadata": {
        "id": "TNetBlAuR6ya"
      },
      "source": [
        "# json file containing truth label aese use krna\n",
        "\n",
        "---\n",
        "\n"
      ]
    },
    {
      "cell_type": "code",
      "metadata": {
        "id": "WXzTkUAR2nE5"
      },
      "source": [
        "import json\n",
        "path = '/content/unprocessedTestData/'\n",
        "fp=open(path+\"metadata.json\",)\n",
        "data=json.load(fp)\n",
        "#print('The true label is:',data[name]['label'])   # where name is string containing just name(not path) of the video\n",
        "\n",
        "\n",
        "\n",
        "# d=\"/content/testSet/unprocessedTestData\"    # folder where test videos are located\n",
        "#for video in os.listdir(d):   # this for loop will give video names one by one\n",
        "\n",
        "    # path_to_video = d+'/'+video    # give path to functing in which video is tested by model\n",
        "    # label = data[video]['label']   # give truth label from json\n"
      ],
      "execution_count": null,
      "outputs": []
    },
    {
      "cell_type": "code",
      "metadata": {
        "id": "gWaEBlZ1uMEa"
      },
      "source": [
        "def load_checkpoint(checkpoint_path):\n",
        "    checkpoint=torch.load(checkpoint_path)\n",
        "    model_conv=torchvision.models.resnet50(pretrained=True)\n",
        "\n",
        "    for param in model_conv.parameters():\n",
        "        param.requires_grad=False\n",
        "\n",
        "    num_ftrs=model_conv.fc.in_features\n",
        "    model_conv.fc=nn.Linear(num_ftrs,2)\n",
        "\n",
        "    #loading the weights\n",
        "    model_conv.load_state_dict(checkpoint['model_state_dict'],strict=False)\n",
        "    model_conv.eval()\n",
        "    return model_conv"
      ],
      "execution_count": null,
      "outputs": []
    },
    {
      "cell_type": "code",
      "metadata": {
        "id": "aUUj2uSeuhJB"
      },
      "source": [
        "def applyTransforms(inp):\n",
        "    outp = transforms.functional.resize(inp, [224,224])\n",
        "    outp = transforms.functional.to_tensor(outp)\n",
        "    outp = transforms.functional.normalize(outp, [0.485, 0.456, 0.406], [0.229, 0.224, 0.225])\n",
        "    return outp"
      ],
      "execution_count": null,
      "outputs": []
    },
    {
      "cell_type": "markdown",
      "metadata": {
        "id": "bGBRWIeJnc0b"
      },
      "source": [
        "**extract every 30th frame of video, extract face from those frames, feed them into network**"
      ]
    },
    {
      "cell_type": "code",
      "metadata": {
        "id": "4YOVGSqovBh7"
      },
      "source": [
        "\n",
        "# function that :\n",
        "# splits passed video into frames and identifies faces within the frames\n",
        "# does forward propogation for all these face frames through the model loaded with trained weights\n",
        "# each forward propogation results in a probability for the frame being \"fake\" or \"real\"\n",
        "# function returns the average probability and percentage of all the frames being real and fake\n",
        "# class with highest probability is considered the detected label of the video\n",
        "\n",
        "def myVideo(file_name,model):\n",
        "    mtcnn = MTCNN(margin=20, keep_all=True, post_process=False, device=device)\n",
        "    # Load video\n",
        "    v_cap = cv2.VideoCapture(file_name)\n",
        "    v_len = int(v_cap.get(cv2.CAP_PROP_FRAME_COUNT))\n",
        "\n",
        "    # Loop through video, taking some no of frames to form a batch   (here, every 30th frame)\n",
        "    frames = []\n",
        "    for i in tqdm(range(v_len)):\n",
        "\n",
        "        # Load frame\n",
        "        success = v_cap.grab()\n",
        "        if i % 30 == 0:\n",
        "            success, frame = v_cap.retrieve()\n",
        "        else:\n",
        "            continue\n",
        "        if not success:\n",
        "            continue\n",
        "\n",
        "        # Add to batch\n",
        "        frame = cv2.cvtColor(frame, cv2.COLOR_BGR2RGB)\n",
        "        frames.append(Image.fromarray(frame))\n",
        "\n",
        "\n",
        "\n",
        "    #detect faces in frames &  saving frames to file\n",
        "    f=\"/content/tempOutput/\"\n",
        "    frames_paths = [f+'image' + str(i) +'.jpg' for i in range(len(frames))]\n",
        "    faces = mtcnn(frames,save_path=frames_paths)\n",
        "\n",
        "    path=os.listdir(f)\n",
        "    vals_f=[]\n",
        "    vals_r=[]\n",
        "    for x in path:\n",
        "        img = Image.open(f + x)\n",
        "        imageTensor = applyTransforms(img)\n",
        "        minibatch = torch.stack([imageTensor])\n",
        "        #model_conv(minibatch)\n",
        "        softMax = nn.Softmax(dim = 1)\n",
        "        preds = softMax(model(minibatch))\n",
        "        vals_f.append(preds[0,0].item())\n",
        "        vals_r.append(preds[0,1].item())\n",
        "\n",
        "    av_f=sum(vals_f)/len(path)\n",
        "    print(\"average probability of fakeness:\",av_f)\n",
        "    print('Percentage of fakeness: {:.4f}'.format(av_f*100))\n",
        "\n",
        "    av_r=sum(vals_r)/len(path)\n",
        "    print(\"average probability of realness:\",av_r)\n",
        "    print('Percentage of realness: {:.4f}'.format(av_r*100))\n",
        "\n",
        "\n",
        "\n",
        "    return av_f"
      ],
      "execution_count": null,
      "outputs": []
    },
    {
      "cell_type": "code",
      "metadata": {
        "id": "hvsphfLLvQOq"
      },
      "source": [
        "#import os\n",
        "def testing(path,model):\n",
        "\n",
        "    #remove previous temp output if any\n",
        "    f=\"/content/tempOutput/\"\n",
        "    reqd=os.listdir(f)\n",
        "\n",
        "    if len(reqd)!=0:\n",
        "        for i in reqd:\n",
        "            os.remove(f+i)\n",
        "\n",
        "\n",
        "    prediction = myVideo(path,model) # returns probability of fakeness of video\n",
        "\n",
        "\n",
        "\n",
        "    return prediction"
      ],
      "execution_count": null,
      "outputs": []
    },
    {
      "cell_type": "code",
      "metadata": {
        "id": "wx00JAF6vRqZ",
        "colab": {
          "base_uri": "https://localhost:8080/",
          "height": 82,
          "referenced_widgets": [
            "8d87fb879fdc4b98a8d2a91cd0187f5b",
            "8fb201341ac74243a4d55b29a2bd5a8f",
            "65812ed812754abda2ce062c73462d60",
            "f18dd974e70041efb8d333b21c148b0f",
            "c324cf7a06ae4d11a76d7bdda19940b1",
            "8392b787cd8d4f418700edc1077e26eb",
            "fc7e55753c5f49589eb2088b14ecca56",
            "c866e9d356504d4594390c470bc3598f"
          ]
        },
        "outputId": "fcc121fc-6de3-4e40-e3f5-85c088f054f1"
      },
      "source": [
        "#  Call load_checkpoint() function ( to load the trained weights into the ResNet-50 model )\n",
        "model_conv=load_checkpoint(\"/content/gdrive/MyDrive/optionB_weights1/finalCheckpoint_tensor(0.9656, device='cuda:0', dtype=torch.float64)_0.10349578748715126.pth\")"
      ],
      "execution_count": null,
      "outputs": [
        {
          "output_type": "stream",
          "text": [
            "Downloading: \"https://download.pytorch.org/models/resnet50-19c8e357.pth\" to /root/.cache/torch/hub/checkpoints/resnet50-19c8e357.pth\n"
          ],
          "name": "stderr"
        },
        {
          "output_type": "display_data",
          "data": {
            "application/vnd.jupyter.widget-view+json": {
              "model_id": "8d87fb879fdc4b98a8d2a91cd0187f5b",
              "version_minor": 0,
              "version_major": 2
            },
            "text/plain": [
              "HBox(children=(FloatProgress(value=0.0, max=102502400.0), HTML(value='')))"
            ]
          },
          "metadata": {
            "tags": []
          }
        },
        {
          "output_type": "stream",
          "text": [
            "\n"
          ],
          "name": "stdout"
        }
      ]
    },
    {
      "cell_type": "code",
      "metadata": {
        "id": "fTJNnksjvueN",
        "colab": {
          "base_uri": "https://localhost:8080/"
        },
        "outputId": "0ba3f599-a29c-4dd8-8d08-c4a7ea462429"
      },
      "source": [
        "#########   1 for real\n",
        "#########   0 for fake\n",
        "path = '/content/unprocessedTestData/'\n",
        "nTotal=0\n",
        "nTotalCorrect=0\n",
        "nTotalIncorrect=0\n",
        "for f in os.listdir(path):\n",
        "    if f == 'metadata.json':\n",
        "        continue\n",
        "\n",
        "    pred = testing(path+f,model_conv)\n",
        "\n",
        "    pred = (pred<0.5)*1 # 1 when real (fake probability less than 0.5, therefore its real and therefore label 1)\n",
        "    truth = (data[f]['label'] == 'REAL') * 1 #  1 when label is real, 0 for fake\n",
        "\n",
        "    print(data[f]['label'])\n",
        "    print(truth)\n",
        "    if (pred==truth):\n",
        "        print(\"\\nCorrect Prediction!!\")\n",
        "        print(pred)\n",
        "\n",
        "        nTotalCorrect+=1\n",
        "    else:\n",
        "        print(\"\\nIncorrect.\")\n",
        "        print(pred)\n",
        "        nTotalIncorrect+=1\n",
        "\n",
        "    nTotal+=1\n",
        "    print()\n",
        "\n",
        "    print(\"Total Correct: \"+str(nTotalCorrect))\n",
        "    print(\"Total Incorrect: \"+str(nTotalIncorrect))\n",
        "    print(\"Total: \"+str(nTotal))\n",
        "    print(\"-----------------------------\\n\")\n",
        "\n",
        "\n"
      ],
      "execution_count": null,
      "outputs": [
        {
          "output_type": "stream",
          "text": [
            "100%|██████████| 300/300 [00:02<00:00, 120.67it/s]\n",
            "/usr/local/lib/python3.7/dist-packages/facenet_pytorch/models/utils/detect_face.py:183: VisibleDeprecationWarning: Creating an ndarray from ragged nested sequences (which is a list-or-tuple of lists-or-tuples-or ndarrays with different lengths or shapes) is deprecated. If you meant to do this, you must specify 'dtype=object' when creating the ndarray\n",
            "  batch_boxes, batch_points = np.array(batch_boxes), np.array(batch_points)\n",
            "/usr/local/lib/python3.7/dist-packages/facenet_pytorch/models/mtcnn.py:339: VisibleDeprecationWarning: Creating an ndarray from ragged nested sequences (which is a list-or-tuple of lists-or-tuples-or ndarrays with different lengths or shapes) is deprecated. If you meant to do this, you must specify 'dtype=object' when creating the ndarray\n",
            "  boxes = np.array(boxes)\n",
            "/usr/local/lib/python3.7/dist-packages/facenet_pytorch/models/mtcnn.py:340: VisibleDeprecationWarning: Creating an ndarray from ragged nested sequences (which is a list-or-tuple of lists-or-tuples-or ndarrays with different lengths or shapes) is deprecated. If you meant to do this, you must specify 'dtype=object' when creating the ndarray\n",
            "  probs = np.array(probs)\n",
            "/usr/local/lib/python3.7/dist-packages/facenet_pytorch/models/mtcnn.py:341: VisibleDeprecationWarning: Creating an ndarray from ragged nested sequences (which is a list-or-tuple of lists-or-tuples-or ndarrays with different lengths or shapes) is deprecated. If you meant to do this, you must specify 'dtype=object' when creating the ndarray\n",
            "  points = np.array(points)\n",
            "  2%|▏         | 7/300 [00:00<00:04, 61.30it/s]"
          ],
          "name": "stderr"
        },
        {
          "output_type": "stream",
          "text": [
            "average probability of fakeness: 0.0696802470957454\n",
            "Percentage of fakeness: 6.9680\n",
            "average probability of realness: 0.9303197677318866\n",
            "Percentage of realness: 93.0320\n",
            "REAL\n",
            "1\n",
            "\n",
            "Correct Prediction!!\n",
            "1\n",
            "\n",
            "Total Correct: 1\n",
            "Total Incorrect: 0\n",
            "Total: 1\n",
            "-----------------------------\n",
            "\n"
          ],
          "name": "stdout"
        },
        {
          "output_type": "stream",
          "text": [
            "100%|██████████| 300/300 [00:02<00:00, 106.83it/s]\n",
            "  2%|▏         | 7/300 [00:00<00:04, 60.47it/s]"
          ],
          "name": "stderr"
        },
        {
          "output_type": "stream",
          "text": [
            "average probability of fakeness: 0.9924466063578924\n",
            "Percentage of fakeness: 99.2447\n",
            "average probability of realness: 0.0075533990557232755\n",
            "Percentage of realness: 0.7553\n",
            "FAKE\n",
            "0\n",
            "\n",
            "Correct Prediction!!\n",
            "0\n",
            "\n",
            "Total Correct: 2\n",
            "Total Incorrect: 0\n",
            "Total: 2\n",
            "-----------------------------\n",
            "\n"
          ],
          "name": "stdout"
        },
        {
          "output_type": "stream",
          "text": [
            "100%|██████████| 300/300 [00:03<00:00, 92.15it/s]\n",
            "  3%|▎         | 9/300 [00:00<00:03, 80.95it/s]"
          ],
          "name": "stderr"
        },
        {
          "output_type": "stream",
          "text": [
            "average probability of fakeness: 0.9921620867469094\n",
            "Percentage of fakeness: 99.2162\n",
            "average probability of realness: 0.007837928930960268\n",
            "Percentage of realness: 0.7838\n",
            "FAKE\n",
            "0\n",
            "\n",
            "Correct Prediction!!\n",
            "0\n",
            "\n",
            "Total Correct: 3\n",
            "Total Incorrect: 0\n",
            "Total: 3\n",
            "-----------------------------\n",
            "\n"
          ],
          "name": "stdout"
        },
        {
          "output_type": "stream",
          "text": [
            "100%|██████████| 300/300 [00:02<00:00, 117.82it/s]\n",
            "  3%|▎         | 8/300 [00:00<00:03, 79.48it/s]"
          ],
          "name": "stderr"
        },
        {
          "output_type": "stream",
          "text": [
            "average probability of fakeness: 0.9993955552577972\n",
            "Percentage of fakeness: 99.9396\n",
            "average probability of realness: 0.0006044381396350218\n",
            "Percentage of realness: 0.0604\n",
            "FAKE\n",
            "0\n",
            "\n",
            "Correct Prediction!!\n",
            "0\n",
            "\n",
            "Total Correct: 4\n",
            "Total Incorrect: 0\n",
            "Total: 4\n",
            "-----------------------------\n",
            "\n"
          ],
          "name": "stdout"
        },
        {
          "output_type": "stream",
          "text": [
            "100%|██████████| 300/300 [00:02<00:00, 118.34it/s]\n",
            "  2%|▏         | 7/300 [00:00<00:04, 60.57it/s]"
          ],
          "name": "stderr"
        },
        {
          "output_type": "stream",
          "text": [
            "average probability of fakeness: 0.9813499867916107\n",
            "Percentage of fakeness: 98.1350\n",
            "average probability of realness: 0.01865002787671983\n",
            "Percentage of realness: 1.8650\n",
            "FAKE\n",
            "0\n",
            "\n",
            "Correct Prediction!!\n",
            "0\n",
            "\n",
            "Total Correct: 5\n",
            "Total Incorrect: 0\n",
            "Total: 5\n",
            "-----------------------------\n",
            "\n"
          ],
          "name": "stdout"
        },
        {
          "output_type": "stream",
          "text": [
            "100%|██████████| 300/300 [00:03<00:00, 92.03it/s]\n",
            "  3%|▎         | 10/300 [00:00<00:02, 96.72it/s]"
          ],
          "name": "stderr"
        },
        {
          "output_type": "stream",
          "text": [
            "average probability of fakeness: 0.9844495306412379\n",
            "Percentage of fakeness: 98.4450\n",
            "average probability of realness: 0.015550460091011095\n",
            "Percentage of realness: 1.5550\n",
            "FAKE\n",
            "0\n",
            "\n",
            "Correct Prediction!!\n",
            "0\n",
            "\n",
            "Total Correct: 6\n",
            "Total Incorrect: 0\n",
            "Total: 6\n",
            "-----------------------------\n",
            "\n"
          ],
          "name": "stdout"
        },
        {
          "output_type": "stream",
          "text": [
            "100%|██████████| 300/300 [00:02<00:00, 140.40it/s]\n",
            "  2%|▏         | 7/300 [00:00<00:04, 69.98it/s]"
          ],
          "name": "stderr"
        },
        {
          "output_type": "stream",
          "text": [
            "average probability of fakeness: 0.9998312890529633\n",
            "Percentage of fakeness: 99.9831\n",
            "average probability of realness: 0.00016870333784027025\n",
            "Percentage of realness: 0.0169\n",
            "FAKE\n",
            "0\n",
            "\n",
            "Correct Prediction!!\n",
            "0\n",
            "\n",
            "Total Correct: 7\n",
            "Total Incorrect: 0\n",
            "Total: 7\n",
            "-----------------------------\n",
            "\n"
          ],
          "name": "stdout"
        },
        {
          "output_type": "stream",
          "text": [
            "100%|██████████| 300/300 [00:02<00:00, 112.51it/s]\n",
            "  2%|▏         | 7/300 [00:00<00:04, 60.38it/s]"
          ],
          "name": "stderr"
        },
        {
          "output_type": "stream",
          "text": [
            "average probability of fakeness: 0.7228842794895172\n",
            "Percentage of fakeness: 72.2884\n",
            "average probability of realness: 0.2771157082170248\n",
            "Percentage of realness: 27.7116\n",
            "REAL\n",
            "1\n",
            "\n",
            "Incorrect.\n",
            "0\n",
            "\n",
            "Total Correct: 7\n",
            "Total Incorrect: 1\n",
            "Total: 8\n",
            "-----------------------------\n",
            "\n"
          ],
          "name": "stdout"
        },
        {
          "output_type": "stream",
          "text": [
            "100%|██████████| 300/300 [00:03<00:00, 95.96it/s]\n",
            "  2%|▏         | 6/300 [00:00<00:04, 59.96it/s]"
          ],
          "name": "stderr"
        },
        {
          "output_type": "stream",
          "text": [
            "average probability of fakeness: 0.5273836283013225\n",
            "Percentage of fakeness: 52.7384\n",
            "average probability of realness: 0.47261636902112514\n",
            "Percentage of realness: 47.2616\n",
            "REAL\n",
            "1\n",
            "\n",
            "Incorrect.\n",
            "0\n",
            "\n",
            "Total Correct: 7\n",
            "Total Incorrect: 2\n",
            "Total: 9\n",
            "-----------------------------\n",
            "\n"
          ],
          "name": "stdout"
        },
        {
          "output_type": "stream",
          "text": [
            "100%|██████████| 300/300 [00:03<00:00, 91.87it/s]\n",
            "  4%|▎         | 11/300 [00:00<00:02, 106.57it/s]"
          ],
          "name": "stderr"
        },
        {
          "output_type": "stream",
          "text": [
            "average probability of fakeness: 0.16313606705939906\n",
            "Percentage of fakeness: 16.3136\n",
            "average probability of realness: 0.8368639282204888\n",
            "Percentage of realness: 83.6864\n",
            "REAL\n",
            "1\n",
            "\n",
            "Correct Prediction!!\n",
            "1\n",
            "\n",
            "Total Correct: 8\n",
            "Total Incorrect: 2\n",
            "Total: 10\n",
            "-----------------------------\n",
            "\n"
          ],
          "name": "stdout"
        },
        {
          "output_type": "stream",
          "text": [
            "100%|██████████| 300/300 [00:02<00:00, 144.71it/s]\n",
            "  3%|▎         | 10/300 [00:00<00:03, 92.00it/s]"
          ],
          "name": "stderr"
        },
        {
          "output_type": "stream",
          "text": [
            "average probability of fakeness: 0.28367615613969976\n",
            "Percentage of fakeness: 28.3676\n",
            "average probability of realness: 0.7163238413631916\n",
            "Percentage of realness: 71.6324\n",
            "REAL\n",
            "1\n",
            "\n",
            "Correct Prediction!!\n",
            "1\n",
            "\n",
            "Total Correct: 9\n",
            "Total Incorrect: 2\n",
            "Total: 11\n",
            "-----------------------------\n",
            "\n"
          ],
          "name": "stdout"
        },
        {
          "output_type": "stream",
          "text": [
            "100%|██████████| 300/300 [00:02<00:00, 141.57it/s]\n",
            "  2%|▏         | 7/300 [00:00<00:04, 67.62it/s]"
          ],
          "name": "stderr"
        },
        {
          "output_type": "stream",
          "text": [
            "average probability of fakeness: 0.4595848170408447\n",
            "Percentage of fakeness: 45.9585\n",
            "average probability of realness: 0.5404152023423064\n",
            "Percentage of realness: 54.0415\n",
            "REAL\n",
            "1\n",
            "\n",
            "Correct Prediction!!\n",
            "1\n",
            "\n",
            "Total Correct: 10\n",
            "Total Incorrect: 2\n",
            "Total: 12\n",
            "-----------------------------\n",
            "\n"
          ],
          "name": "stdout"
        },
        {
          "output_type": "stream",
          "text": [
            "100%|██████████| 300/300 [00:02<00:00, 105.91it/s]\n",
            "  3%|▎         | 8/300 [00:00<00:03, 76.58it/s]"
          ],
          "name": "stderr"
        },
        {
          "output_type": "stream",
          "text": [
            "average probability of fakeness: 0.9956106651913036\n",
            "Percentage of fakeness: 99.5611\n",
            "average probability of realness: 0.004389332470468203\n",
            "Percentage of realness: 0.4389\n",
            "FAKE\n",
            "0\n",
            "\n",
            "Correct Prediction!!\n",
            "0\n",
            "\n",
            "Total Correct: 11\n",
            "Total Incorrect: 2\n",
            "Total: 13\n",
            "-----------------------------\n",
            "\n"
          ],
          "name": "stdout"
        },
        {
          "output_type": "stream",
          "text": [
            "100%|██████████| 300/300 [00:02<00:00, 143.88it/s]\n",
            "  2%|▏         | 7/300 [00:00<00:04, 59.02it/s]"
          ],
          "name": "stderr"
        },
        {
          "output_type": "stream",
          "text": [
            "average probability of fakeness: 0.9975658694903056\n",
            "Percentage of fakeness: 99.7566\n",
            "average probability of realness: 0.0024341317449094882\n",
            "Percentage of realness: 0.2434\n",
            "FAKE\n",
            "0\n",
            "\n",
            "Correct Prediction!!\n",
            "0\n",
            "\n",
            "Total Correct: 12\n",
            "Total Incorrect: 2\n",
            "Total: 14\n",
            "-----------------------------\n",
            "\n"
          ],
          "name": "stdout"
        },
        {
          "output_type": "stream",
          "text": [
            "100%|██████████| 300/300 [00:03<00:00, 92.05it/s]\n",
            "  2%|▏         | 7/300 [00:00<00:04, 61.46it/s]"
          ],
          "name": "stderr"
        },
        {
          "output_type": "stream",
          "text": [
            "average probability of fakeness: 0.9738582313060761\n",
            "Percentage of fakeness: 97.3858\n",
            "average probability of realness: 0.026141769031528383\n",
            "Percentage of realness: 2.6142\n",
            "FAKE\n",
            "0\n",
            "\n",
            "Correct Prediction!!\n",
            "0\n",
            "\n",
            "Total Correct: 13\n",
            "Total Incorrect: 2\n",
            "Total: 15\n",
            "-----------------------------\n",
            "\n"
          ],
          "name": "stdout"
        },
        {
          "output_type": "stream",
          "text": [
            "100%|██████████| 300/300 [00:03<00:00, 92.50it/s]\n",
            "  3%|▎         | 8/300 [00:00<00:03, 77.22it/s]"
          ],
          "name": "stderr"
        },
        {
          "output_type": "stream",
          "text": [
            "average probability of fakeness: 0.9941088340499185\n",
            "Percentage of fakeness: 99.4109\n",
            "average probability of realness: 0.0058911603736801635\n",
            "Percentage of realness: 0.5891\n",
            "FAKE\n",
            "0\n",
            "\n",
            "Correct Prediction!!\n",
            "0\n",
            "\n",
            "Total Correct: 14\n",
            "Total Incorrect: 2\n",
            "Total: 16\n",
            "-----------------------------\n",
            "\n"
          ],
          "name": "stdout"
        },
        {
          "output_type": "stream",
          "text": [
            "100%|██████████| 300/300 [00:02<00:00, 120.86it/s]\n",
            "  2%|▏         | 7/300 [00:00<00:04, 60.98it/s]"
          ],
          "name": "stderr"
        },
        {
          "output_type": "stream",
          "text": [
            "average probability of fakeness: 0.862153497007158\n",
            "Percentage of fakeness: 86.2153\n",
            "average probability of realness: 0.1378465001988742\n",
            "Percentage of realness: 13.7847\n",
            "REAL\n",
            "1\n",
            "\n",
            "Incorrect.\n",
            "0\n",
            "\n",
            "Total Correct: 14\n",
            "Total Incorrect: 3\n",
            "Total: 17\n",
            "-----------------------------\n",
            "\n"
          ],
          "name": "stdout"
        },
        {
          "output_type": "stream",
          "text": [
            "100%|██████████| 300/300 [00:03<00:00, 91.56it/s]\n",
            "  3%|▎         | 9/300 [00:00<00:03, 83.96it/s]"
          ],
          "name": "stderr"
        },
        {
          "output_type": "stream",
          "text": [
            "average probability of fakeness: 0.9933906414292075\n",
            "Percentage of fakeness: 99.3391\n",
            "average probability of realness: 0.006609357749932149\n",
            "Percentage of realness: 0.6609\n",
            "FAKE\n",
            "0\n",
            "\n",
            "Correct Prediction!!\n",
            "0\n",
            "\n",
            "Total Correct: 15\n",
            "Total Incorrect: 3\n",
            "Total: 18\n",
            "-----------------------------\n",
            "\n"
          ],
          "name": "stdout"
        },
        {
          "output_type": "stream",
          "text": [
            "100%|██████████| 300/300 [00:02<00:00, 139.99it/s]\n",
            "  2%|▏         | 7/300 [00:00<00:04, 61.61it/s]"
          ],
          "name": "stderr"
        },
        {
          "output_type": "stream",
          "text": [
            "average probability of fakeness: 0.30986283604676523\n",
            "Percentage of fakeness: 30.9863\n",
            "average probability of realness: 0.6901371685167154\n",
            "Percentage of realness: 69.0137\n",
            "REAL\n",
            "1\n",
            "\n",
            "Correct Prediction!!\n",
            "1\n",
            "\n",
            "Total Correct: 16\n",
            "Total Incorrect: 3\n",
            "Total: 19\n",
            "-----------------------------\n",
            "\n"
          ],
          "name": "stdout"
        },
        {
          "output_type": "stream",
          "text": [
            "100%|██████████| 300/300 [00:03<00:00, 93.08it/s]\n",
            "  3%|▎         | 8/300 [00:00<00:03, 77.01it/s]"
          ],
          "name": "stderr"
        },
        {
          "output_type": "stream",
          "text": [
            "average probability of fakeness: 0.06600745037576417\n",
            "Percentage of fakeness: 6.6007\n",
            "average probability of realness: 0.9339925522605578\n",
            "Percentage of realness: 93.3993\n",
            "REAL\n",
            "1\n",
            "\n",
            "Correct Prediction!!\n",
            "1\n",
            "\n",
            "Total Correct: 17\n",
            "Total Incorrect: 3\n",
            "Total: 20\n",
            "-----------------------------\n",
            "\n"
          ],
          "name": "stdout"
        },
        {
          "output_type": "stream",
          "text": [
            "100%|██████████| 300/300 [00:02<00:00, 148.58it/s]\n",
            "  2%|▏         | 7/300 [00:00<00:04, 59.54it/s]"
          ],
          "name": "stderr"
        },
        {
          "output_type": "stream",
          "text": [
            "average probability of fakeness: 0.9928265384265355\n",
            "Percentage of fakeness: 99.2827\n",
            "average probability of realness: 0.0071734488465153845\n",
            "Percentage of realness: 0.7173\n",
            "FAKE\n",
            "0\n",
            "\n",
            "Correct Prediction!!\n",
            "0\n",
            "\n",
            "Total Correct: 18\n",
            "Total Incorrect: 3\n",
            "Total: 21\n",
            "-----------------------------\n",
            "\n"
          ],
          "name": "stdout"
        },
        {
          "output_type": "stream",
          "text": [
            "100%|██████████| 300/300 [00:03<00:00, 96.73it/s]\n",
            "  2%|▏         | 5/300 [00:00<00:06, 48.94it/s]"
          ],
          "name": "stderr"
        },
        {
          "output_type": "stream",
          "text": [
            "average probability of fakeness: 0.15312824315730145\n",
            "Percentage of fakeness: 15.3128\n",
            "average probability of realness: 0.8468717621131376\n",
            "Percentage of realness: 84.6872\n",
            "REAL\n",
            "1\n",
            "\n",
            "Correct Prediction!!\n",
            "1\n",
            "\n",
            "Total Correct: 19\n",
            "Total Incorrect: 3\n",
            "Total: 22\n",
            "-----------------------------\n",
            "\n"
          ],
          "name": "stdout"
        },
        {
          "output_type": "stream",
          "text": [
            "100%|██████████| 300/300 [00:03<00:00, 89.91it/s]\n",
            "  2%|▏         | 7/300 [00:00<00:04, 69.55it/s]"
          ],
          "name": "stderr"
        },
        {
          "output_type": "stream",
          "text": [
            "average probability of fakeness: 0.3454604059754109\n",
            "Percentage of fakeness: 34.5460\n",
            "average probability of realness: 0.654539600035853\n",
            "Percentage of realness: 65.4540\n",
            "REAL\n",
            "1\n",
            "\n",
            "Correct Prediction!!\n",
            "1\n",
            "\n",
            "Total Correct: 20\n",
            "Total Incorrect: 3\n",
            "Total: 23\n",
            "-----------------------------\n",
            "\n"
          ],
          "name": "stdout"
        },
        {
          "output_type": "stream",
          "text": [
            "100%|██████████| 300/300 [00:02<00:00, 107.97it/s]\n",
            "  2%|▏         | 7/300 [00:00<00:04, 60.72it/s]"
          ],
          "name": "stderr"
        },
        {
          "output_type": "stream",
          "text": [
            "average probability of fakeness: 0.0450315813330235\n",
            "Percentage of fakeness: 4.5032\n",
            "average probability of realness: 0.9549684464931488\n",
            "Percentage of realness: 95.4968\n",
            "REAL\n",
            "1\n",
            "\n",
            "Correct Prediction!!\n",
            "1\n",
            "\n",
            "Total Correct: 21\n",
            "Total Incorrect: 3\n",
            "Total: 24\n",
            "-----------------------------\n",
            "\n"
          ],
          "name": "stdout"
        },
        {
          "output_type": "stream",
          "text": [
            "100%|██████████| 300/300 [00:03<00:00, 94.22it/s]\n",
            "  3%|▎         | 8/300 [00:00<00:03, 79.48it/s]"
          ],
          "name": "stderr"
        },
        {
          "output_type": "stream",
          "text": [
            "average probability of fakeness: 0.026997794177573683\n",
            "Percentage of fakeness: 2.6998\n",
            "average probability of realness: 0.9730022116140886\n",
            "Percentage of realness: 97.3002\n",
            "REAL\n",
            "1\n",
            "\n",
            "Correct Prediction!!\n",
            "1\n",
            "\n",
            "Total Correct: 22\n",
            "Total Incorrect: 3\n",
            "Total: 25\n",
            "-----------------------------\n",
            "\n"
          ],
          "name": "stdout"
        },
        {
          "output_type": "stream",
          "text": [
            "100%|██████████| 300/300 [00:02<00:00, 117.34it/s]\n",
            "  4%|▎         | 11/300 [00:00<00:02, 97.33it/s]"
          ],
          "name": "stderr"
        },
        {
          "output_type": "stream",
          "text": [
            "average probability of fakeness: 0.9285675287246704\n",
            "Percentage of fakeness: 92.8568\n",
            "average probability of realness: 0.07143248514168793\n",
            "Percentage of realness: 7.1432\n",
            "FAKE\n",
            "0\n",
            "\n",
            "Correct Prediction!!\n",
            "0\n",
            "\n",
            "Total Correct: 23\n",
            "Total Incorrect: 3\n",
            "Total: 26\n",
            "-----------------------------\n",
            "\n"
          ],
          "name": "stdout"
        },
        {
          "output_type": "stream",
          "text": [
            "100%|██████████| 300/300 [00:02<00:00, 138.36it/s]\n",
            "  2%|▏         | 7/300 [00:00<00:04, 69.23it/s]"
          ],
          "name": "stderr"
        },
        {
          "output_type": "stream",
          "text": [
            "average probability of fakeness: 0.9962350487709045\n",
            "Percentage of fakeness: 99.6235\n",
            "average probability of realness: 0.003764929689972026\n",
            "Percentage of realness: 0.3765\n",
            "FAKE\n",
            "0\n",
            "\n",
            "Correct Prediction!!\n",
            "0\n",
            "\n",
            "Total Correct: 24\n",
            "Total Incorrect: 3\n",
            "Total: 27\n",
            "-----------------------------\n",
            "\n"
          ],
          "name": "stdout"
        },
        {
          "output_type": "stream",
          "text": [
            "100%|██████████| 300/300 [00:02<00:00, 119.68it/s]\n",
            "  2%|▏         | 7/300 [00:00<00:04, 69.17it/s]"
          ],
          "name": "stderr"
        },
        {
          "output_type": "stream",
          "text": [
            "average probability of fakeness: 0.9395639763938056\n",
            "Percentage of fakeness: 93.9564\n",
            "average probability of realness: 0.060436023813154965\n",
            "Percentage of realness: 6.0436\n",
            "FAKE\n",
            "0\n",
            "\n",
            "Correct Prediction!!\n",
            "0\n",
            "\n",
            "Total Correct: 25\n",
            "Total Incorrect: 3\n",
            "Total: 28\n",
            "-----------------------------\n",
            "\n"
          ],
          "name": "stdout"
        },
        {
          "output_type": "stream",
          "text": [
            "100%|██████████| 300/300 [00:02<00:00, 113.91it/s]\n",
            "  2%|▏         | 6/300 [00:00<00:04, 59.09it/s]"
          ],
          "name": "stderr"
        },
        {
          "output_type": "stream",
          "text": [
            "average probability of fakeness: 0.11255652167310473\n",
            "Percentage of fakeness: 11.2557\n",
            "average probability of realness: 0.8874434826895594\n",
            "Percentage of realness: 88.7443\n",
            "REAL\n",
            "1\n",
            "\n",
            "Correct Prediction!!\n",
            "1\n",
            "\n",
            "Total Correct: 26\n",
            "Total Incorrect: 3\n",
            "Total: 29\n",
            "-----------------------------\n",
            "\n"
          ],
          "name": "stdout"
        },
        {
          "output_type": "stream",
          "text": [
            "100%|██████████| 300/300 [00:02<00:00, 125.02it/s]\n",
            "  2%|▏         | 7/300 [00:00<00:04, 60.38it/s]"
          ],
          "name": "stderr"
        },
        {
          "output_type": "stream",
          "text": [
            "average probability of fakeness: 0.1539337482669604\n",
            "Percentage of fakeness: 15.3934\n",
            "average probability of realness: 0.8460662526777014\n",
            "Percentage of realness: 84.6066\n",
            "REAL\n",
            "1\n",
            "\n",
            "Correct Prediction!!\n",
            "1\n",
            "\n",
            "Total Correct: 27\n",
            "Total Incorrect: 3\n",
            "Total: 30\n",
            "-----------------------------\n",
            "\n"
          ],
          "name": "stdout"
        },
        {
          "output_type": "stream",
          "text": [
            "100%|██████████| 300/300 [00:03<00:00, 97.69it/s]\n",
            "  3%|▎         | 8/300 [00:00<00:03, 76.98it/s]"
          ],
          "name": "stderr"
        },
        {
          "output_type": "stream",
          "text": [
            "average probability of fakeness: 0.09537978125312789\n",
            "Percentage of fakeness: 9.5380\n",
            "average probability of realness: 0.9046202301979065\n",
            "Percentage of realness: 90.4620\n",
            "REAL\n",
            "1\n",
            "\n",
            "Correct Prediction!!\n",
            "1\n",
            "\n",
            "Total Correct: 28\n",
            "Total Incorrect: 3\n",
            "Total: 31\n",
            "-----------------------------\n",
            "\n"
          ],
          "name": "stdout"
        },
        {
          "output_type": "stream",
          "text": [
            "100%|██████████| 300/300 [00:02<00:00, 109.88it/s]\n",
            "  3%|▎         | 8/300 [00:00<00:03, 76.24it/s]"
          ],
          "name": "stderr"
        },
        {
          "output_type": "stream",
          "text": [
            "average probability of fakeness: 0.9982356309890748\n",
            "Percentage of fakeness: 99.8236\n",
            "average probability of realness: 0.0017643567602135591\n",
            "Percentage of realness: 0.1764\n",
            "FAKE\n",
            "0\n",
            "\n",
            "Correct Prediction!!\n",
            "0\n",
            "\n",
            "Total Correct: 29\n",
            "Total Incorrect: 3\n",
            "Total: 32\n",
            "-----------------------------\n",
            "\n"
          ],
          "name": "stdout"
        },
        {
          "output_type": "stream",
          "text": [
            "100%|██████████| 300/300 [00:02<00:00, 112.41it/s]\n",
            "  2%|▏         | 7/300 [00:00<00:04, 66.36it/s]"
          ],
          "name": "stderr"
        },
        {
          "output_type": "stream",
          "text": [
            "average probability of fakeness: 0.6813924773172899\n",
            "Percentage of fakeness: 68.1392\n",
            "average probability of realness: 0.31860751658678055\n",
            "Percentage of realness: 31.8608\n",
            "REAL\n",
            "1\n",
            "\n",
            "Incorrect.\n",
            "0\n",
            "\n",
            "Total Correct: 29\n",
            "Total Incorrect: 4\n",
            "Total: 33\n",
            "-----------------------------\n",
            "\n"
          ],
          "name": "stdout"
        },
        {
          "output_type": "stream",
          "text": [
            "100%|██████████| 300/300 [00:02<00:00, 128.69it/s]\n",
            "  2%|▏         | 7/300 [00:00<00:04, 62.67it/s]"
          ],
          "name": "stderr"
        },
        {
          "output_type": "stream",
          "text": [
            "average probability of fakeness: 0.9799351021647453\n",
            "Percentage of fakeness: 97.9935\n",
            "average probability of realness: 0.020064877509895496\n",
            "Percentage of realness: 2.0065\n",
            "FAKE\n",
            "0\n",
            "\n",
            "Correct Prediction!!\n",
            "0\n",
            "\n",
            "Total Correct: 30\n",
            "Total Incorrect: 4\n",
            "Total: 34\n",
            "-----------------------------\n",
            "\n"
          ],
          "name": "stdout"
        },
        {
          "output_type": "stream",
          "text": [
            "100%|██████████| 300/300 [00:03<00:00, 91.02it/s]\n",
            "  3%|▎         | 9/300 [00:00<00:03, 81.74it/s]"
          ],
          "name": "stderr"
        },
        {
          "output_type": "stream",
          "text": [
            "average probability of fakeness: 0.9529908816019694\n",
            "Percentage of fakeness: 95.2991\n",
            "average probability of realness: 0.047009110354156294\n",
            "Percentage of realness: 4.7009\n",
            "FAKE\n",
            "0\n",
            "\n",
            "Correct Prediction!!\n",
            "0\n",
            "\n",
            "Total Correct: 31\n",
            "Total Incorrect: 4\n",
            "Total: 35\n",
            "-----------------------------\n",
            "\n"
          ],
          "name": "stdout"
        },
        {
          "output_type": "stream",
          "text": [
            "100%|██████████| 300/300 [00:02<00:00, 127.97it/s]\n",
            "  3%|▎         | 10/300 [00:00<00:03, 94.88it/s]"
          ],
          "name": "stderr"
        },
        {
          "output_type": "stream",
          "text": [
            "average probability of fakeness: 0.9637070993582407\n",
            "Percentage of fakeness: 96.3707\n",
            "average probability of realness: 0.03629290566398898\n",
            "Percentage of realness: 3.6293\n",
            "FAKE\n",
            "0\n",
            "\n",
            "Correct Prediction!!\n",
            "0\n",
            "\n",
            "Total Correct: 32\n",
            "Total Incorrect: 4\n",
            "Total: 36\n",
            "-----------------------------\n",
            "\n"
          ],
          "name": "stdout"
        },
        {
          "output_type": "stream",
          "text": [
            "100%|██████████| 300/300 [00:02<00:00, 140.65it/s]\n",
            "  3%|▎         | 9/300 [00:00<00:03, 80.52it/s]"
          ],
          "name": "stderr"
        },
        {
          "output_type": "stream",
          "text": [
            "average probability of fakeness: 0.42637941724973166\n",
            "Percentage of fakeness: 42.6379\n",
            "average probability of realness: 0.5736205900168937\n",
            "Percentage of realness: 57.3621\n",
            "REAL\n",
            "1\n",
            "\n",
            "Correct Prediction!!\n",
            "1\n",
            "\n",
            "Total Correct: 33\n",
            "Total Incorrect: 4\n",
            "Total: 37\n",
            "-----------------------------\n",
            "\n"
          ],
          "name": "stdout"
        },
        {
          "output_type": "stream",
          "text": [
            "100%|██████████| 300/300 [00:02<00:00, 117.88it/s]\n",
            "  4%|▎         | 11/300 [00:00<00:02, 101.55it/s]"
          ],
          "name": "stderr"
        },
        {
          "output_type": "stream",
          "text": [
            "average probability of fakeness: 0.9964143991470337\n",
            "Percentage of fakeness: 99.6414\n",
            "average probability of realness: 0.003585605646367185\n",
            "Percentage of realness: 0.3586\n",
            "FAKE\n",
            "0\n",
            "\n",
            "Correct Prediction!!\n",
            "0\n",
            "\n",
            "Total Correct: 34\n",
            "Total Incorrect: 4\n",
            "Total: 38\n",
            "-----------------------------\n",
            "\n"
          ],
          "name": "stdout"
        },
        {
          "output_type": "stream",
          "text": [
            "100%|██████████| 300/300 [00:02<00:00, 133.49it/s]\n",
            "  2%|▏         | 6/300 [00:00<00:04, 59.64it/s]"
          ],
          "name": "stderr"
        },
        {
          "output_type": "stream",
          "text": [
            "average probability of fakeness: 0.9363572200139364\n",
            "Percentage of fakeness: 93.6357\n",
            "average probability of realness: 0.06364278902390738\n",
            "Percentage of realness: 6.3643\n",
            "FAKE\n",
            "0\n",
            "\n",
            "Correct Prediction!!\n",
            "0\n",
            "\n",
            "Total Correct: 35\n",
            "Total Incorrect: 4\n",
            "Total: 39\n",
            "-----------------------------\n",
            "\n"
          ],
          "name": "stdout"
        },
        {
          "output_type": "stream",
          "text": [
            "100%|██████████| 300/300 [00:03<00:00, 94.87it/s]\n",
            "  3%|▎         | 10/300 [00:00<00:02, 98.51it/s]"
          ],
          "name": "stderr"
        },
        {
          "output_type": "stream",
          "text": [
            "average probability of fakeness: 0.9925650443349566\n",
            "Percentage of fakeness: 99.2565\n",
            "average probability of realness: 0.007434939269273855\n",
            "Percentage of realness: 0.7435\n",
            "FAKE\n",
            "0\n",
            "\n",
            "Correct Prediction!!\n",
            "0\n",
            "\n",
            "Total Correct: 36\n",
            "Total Incorrect: 4\n",
            "Total: 40\n",
            "-----------------------------\n",
            "\n"
          ],
          "name": "stdout"
        },
        {
          "output_type": "stream",
          "text": [
            "100%|██████████| 300/300 [00:02<00:00, 135.77it/s]\n",
            "  3%|▎         | 8/300 [00:00<00:03, 75.60it/s]"
          ],
          "name": "stderr"
        },
        {
          "output_type": "stream",
          "text": [
            "average probability of fakeness: 0.15606382163506086\n",
            "Percentage of fakeness: 15.6064\n",
            "average probability of realness: 0.8439361683347009\n",
            "Percentage of realness: 84.3936\n",
            "REAL\n",
            "1\n",
            "\n",
            "Correct Prediction!!\n",
            "1\n",
            "\n",
            "Total Correct: 37\n",
            "Total Incorrect: 4\n",
            "Total: 41\n",
            "-----------------------------\n",
            "\n"
          ],
          "name": "stdout"
        },
        {
          "output_type": "stream",
          "text": [
            "100%|██████████| 300/300 [00:02<00:00, 117.92it/s]\n",
            "  3%|▎         | 10/300 [00:00<00:03, 93.28it/s]"
          ],
          "name": "stderr"
        },
        {
          "output_type": "stream",
          "text": [
            "average probability of fakeness: 0.9013197362422943\n",
            "Percentage of fakeness: 90.1320\n",
            "average probability of realness: 0.09868026181939057\n",
            "Percentage of realness: 9.8680\n",
            "FAKE\n",
            "0\n",
            "\n",
            "Correct Prediction!!\n",
            "0\n",
            "\n",
            "Total Correct: 38\n",
            "Total Incorrect: 4\n",
            "Total: 42\n",
            "-----------------------------\n",
            "\n"
          ],
          "name": "stdout"
        },
        {
          "output_type": "stream",
          "text": [
            "100%|██████████| 300/300 [00:02<00:00, 131.86it/s]\n",
            "  4%|▎         | 11/300 [00:00<00:02, 103.52it/s]"
          ],
          "name": "stderr"
        },
        {
          "output_type": "stream",
          "text": [
            "average probability of fakeness: 0.059967302790710164\n",
            "Percentage of fakeness: 5.9967\n",
            "average probability of realness: 0.9400326857964197\n",
            "Percentage of realness: 94.0033\n",
            "REAL\n",
            "1\n",
            "\n",
            "Correct Prediction!!\n",
            "1\n",
            "\n",
            "Total Correct: 39\n",
            "Total Incorrect: 4\n",
            "Total: 43\n",
            "-----------------------------\n",
            "\n"
          ],
          "name": "stdout"
        },
        {
          "output_type": "stream",
          "text": [
            "100%|██████████| 300/300 [00:02<00:00, 146.01it/s]\n",
            "  2%|▏         | 7/300 [00:00<00:04, 65.60it/s]"
          ],
          "name": "stderr"
        },
        {
          "output_type": "stream",
          "text": [
            "average probability of fakeness: 0.07398127174625795\n",
            "Percentage of fakeness: 7.3981\n",
            "average probability of realness: 0.9260187298059464\n",
            "Percentage of realness: 92.6019\n",
            "REAL\n",
            "1\n",
            "\n",
            "Correct Prediction!!\n",
            "1\n",
            "\n",
            "Total Correct: 40\n",
            "Total Incorrect: 4\n",
            "Total: 44\n",
            "-----------------------------\n",
            "\n"
          ],
          "name": "stdout"
        },
        {
          "output_type": "stream",
          "text": [
            "100%|██████████| 300/300 [00:02<00:00, 109.48it/s]\n",
            "  3%|▎         | 8/300 [00:00<00:03, 79.75it/s]"
          ],
          "name": "stderr"
        },
        {
          "output_type": "stream",
          "text": [
            "average probability of fakeness: 0.007505186274647713\n",
            "Percentage of fakeness: 0.7505\n",
            "average probability of realness: 0.9924948215484619\n",
            "Percentage of realness: 99.2495\n",
            "REAL\n",
            "1\n",
            "\n",
            "Correct Prediction!!\n",
            "1\n",
            "\n",
            "Total Correct: 41\n",
            "Total Incorrect: 4\n",
            "Total: 45\n",
            "-----------------------------\n",
            "\n"
          ],
          "name": "stdout"
        },
        {
          "output_type": "stream",
          "text": [
            "100%|██████████| 300/300 [00:02<00:00, 119.51it/s]\n",
            "  2%|▏         | 7/300 [00:00<00:04, 62.32it/s]"
          ],
          "name": "stderr"
        },
        {
          "output_type": "stream",
          "text": [
            "average probability of fakeness: 0.9546203944418166\n",
            "Percentage of fakeness: 95.4620\n",
            "average probability of realness: 0.04537959034658141\n",
            "Percentage of realness: 4.5380\n",
            "FAKE\n",
            "0\n",
            "\n",
            "Correct Prediction!!\n",
            "0\n",
            "\n",
            "Total Correct: 42\n",
            "Total Incorrect: 4\n",
            "Total: 46\n",
            "-----------------------------\n",
            "\n"
          ],
          "name": "stdout"
        },
        {
          "output_type": "stream",
          "text": [
            "100%|██████████| 300/300 [00:02<00:00, 121.65it/s]\n",
            "  4%|▎         | 11/300 [00:00<00:02, 101.53it/s]"
          ],
          "name": "stderr"
        },
        {
          "output_type": "stream",
          "text": [
            "average probability of fakeness: 0.02925300650465281\n",
            "Percentage of fakeness: 2.9253\n",
            "average probability of realness: 0.970747015692971\n",
            "Percentage of realness: 97.0747\n",
            "REAL\n",
            "1\n",
            "\n",
            "Correct Prediction!!\n",
            "1\n",
            "\n",
            "Total Correct: 43\n",
            "Total Incorrect: 4\n",
            "Total: 47\n",
            "-----------------------------\n",
            "\n"
          ],
          "name": "stdout"
        },
        {
          "output_type": "stream",
          "text": [
            "100%|██████████| 300/300 [00:02<00:00, 147.79it/s]\n",
            "  3%|▎         | 8/300 [00:00<00:03, 76.58it/s]"
          ],
          "name": "stderr"
        },
        {
          "output_type": "stream",
          "text": [
            "average probability of fakeness: 0.002860402944497764\n",
            "Percentage of fakeness: 0.2860\n",
            "average probability of realness: 0.9971395909786225\n",
            "Percentage of realness: 99.7140\n",
            "REAL\n",
            "1\n",
            "\n",
            "Correct Prediction!!\n",
            "1\n",
            "\n",
            "Total Correct: 44\n",
            "Total Incorrect: 4\n",
            "Total: 48\n",
            "-----------------------------\n",
            "\n"
          ],
          "name": "stdout"
        },
        {
          "output_type": "stream",
          "text": [
            "100%|██████████| 300/300 [00:02<00:00, 110.34it/s]\n",
            "  2%|▏         | 6/300 [00:00<00:04, 59.60it/s]"
          ],
          "name": "stderr"
        },
        {
          "output_type": "stream",
          "text": [
            "average probability of fakeness: 0.997928512096405\n",
            "Percentage of fakeness: 99.7929\n",
            "average probability of realness: 0.0020714848872557924\n",
            "Percentage of realness: 0.2071\n",
            "FAKE\n",
            "0\n",
            "\n",
            "Correct Prediction!!\n",
            "0\n",
            "\n",
            "Total Correct: 45\n",
            "Total Incorrect: 4\n",
            "Total: 49\n",
            "-----------------------------\n",
            "\n"
          ],
          "name": "stdout"
        },
        {
          "output_type": "stream",
          "text": [
            "100%|██████████| 300/300 [00:03<00:00, 93.89it/s]\n",
            "  3%|▎         | 10/300 [00:00<00:03, 90.91it/s]"
          ],
          "name": "stderr"
        },
        {
          "output_type": "stream",
          "text": [
            "average probability of fakeness: 0.9835571911599901\n",
            "Percentage of fakeness: 98.3557\n",
            "average probability of realness: 0.016442815048827067\n",
            "Percentage of realness: 1.6443\n",
            "FAKE\n",
            "0\n",
            "\n",
            "Correct Prediction!!\n",
            "0\n",
            "\n",
            "Total Correct: 46\n",
            "Total Incorrect: 4\n",
            "Total: 50\n",
            "-----------------------------\n",
            "\n"
          ],
          "name": "stdout"
        },
        {
          "output_type": "stream",
          "text": [
            "100%|██████████| 300/300 [00:02<00:00, 133.41it/s]\n",
            "  3%|▎         | 8/300 [00:00<00:03, 79.54it/s]"
          ],
          "name": "stderr"
        },
        {
          "output_type": "stream",
          "text": [
            "average probability of fakeness: 0.9824782858292261\n",
            "Percentage of fakeness: 98.2478\n",
            "average probability of realness: 0.017521715448917046\n",
            "Percentage of realness: 1.7522\n",
            "FAKE\n",
            "0\n",
            "\n",
            "Correct Prediction!!\n",
            "0\n",
            "\n",
            "Total Correct: 47\n",
            "Total Incorrect: 4\n",
            "Total: 51\n",
            "-----------------------------\n",
            "\n"
          ],
          "name": "stdout"
        },
        {
          "output_type": "stream",
          "text": [
            "100%|██████████| 300/300 [00:02<00:00, 112.71it/s]\n",
            "  2%|▏         | 7/300 [00:00<00:04, 59.84it/s]"
          ],
          "name": "stderr"
        },
        {
          "output_type": "stream",
          "text": [
            "average probability of fakeness: 0.9960296034812928\n",
            "Percentage of fakeness: 99.6030\n",
            "average probability of realness: 0.003970400280377362\n",
            "Percentage of realness: 0.3970\n",
            "FAKE\n",
            "0\n",
            "\n",
            "Correct Prediction!!\n",
            "0\n",
            "\n",
            "Total Correct: 48\n",
            "Total Incorrect: 4\n",
            "Total: 52\n",
            "-----------------------------\n",
            "\n"
          ],
          "name": "stdout"
        },
        {
          "output_type": "stream",
          "text": [
            "100%|██████████| 300/300 [00:02<00:00, 106.78it/s]\n",
            "  2%|▏         | 7/300 [00:00<00:04, 68.73it/s]"
          ],
          "name": "stderr"
        },
        {
          "output_type": "stream",
          "text": [
            "average probability of fakeness: 0.022955602410365827\n",
            "Percentage of fakeness: 2.2956\n",
            "average probability of realness: 0.9770443916320801\n",
            "Percentage of realness: 97.7044\n",
            "REAL\n",
            "1\n",
            "\n",
            "Correct Prediction!!\n",
            "1\n",
            "\n",
            "Total Correct: 49\n",
            "Total Incorrect: 4\n",
            "Total: 53\n",
            "-----------------------------\n",
            "\n"
          ],
          "name": "stdout"
        },
        {
          "output_type": "stream",
          "text": [
            "100%|██████████| 300/300 [00:02<00:00, 115.56it/s]\n",
            "  2%|▏         | 7/300 [00:00<00:04, 68.19it/s]"
          ],
          "name": "stderr"
        },
        {
          "output_type": "stream",
          "text": [
            "average probability of fakeness: 0.9494623409377204\n",
            "Percentage of fakeness: 94.9462\n",
            "average probability of realness: 0.050537666926781334\n",
            "Percentage of realness: 5.0538\n",
            "FAKE\n",
            "0\n",
            "\n",
            "Correct Prediction!!\n",
            "0\n",
            "\n",
            "Total Correct: 50\n",
            "Total Incorrect: 4\n",
            "Total: 54\n",
            "-----------------------------\n",
            "\n"
          ],
          "name": "stdout"
        },
        {
          "output_type": "stream",
          "text": [
            "100%|██████████| 300/300 [00:02<00:00, 111.24it/s]\n",
            "  3%|▎         | 8/300 [00:00<00:03, 79.31it/s]"
          ],
          "name": "stderr"
        },
        {
          "output_type": "stream",
          "text": [
            "average probability of fakeness: 0.9993292152881622\n",
            "Percentage of fakeness: 99.9329\n",
            "average probability of realness: 0.0006707781671138946\n",
            "Percentage of realness: 0.0671\n",
            "FAKE\n",
            "0\n",
            "\n",
            "Correct Prediction!!\n",
            "0\n",
            "\n",
            "Total Correct: 51\n",
            "Total Incorrect: 4\n",
            "Total: 55\n",
            "-----------------------------\n",
            "\n"
          ],
          "name": "stdout"
        },
        {
          "output_type": "stream",
          "text": [
            "100%|██████████| 300/300 [00:02<00:00, 115.12it/s]\n",
            "  2%|▏         | 7/300 [00:00<00:04, 67.57it/s]"
          ],
          "name": "stderr"
        },
        {
          "output_type": "stream",
          "text": [
            "average probability of fakeness: 0.000717656358028762\n",
            "Percentage of fakeness: 0.0718\n",
            "average probability of realness: 0.9992823421955108\n",
            "Percentage of realness: 99.9282\n",
            "REAL\n",
            "1\n",
            "\n",
            "Correct Prediction!!\n",
            "1\n",
            "\n",
            "Total Correct: 52\n",
            "Total Incorrect: 4\n",
            "Total: 56\n",
            "-----------------------------\n",
            "\n"
          ],
          "name": "stdout"
        },
        {
          "output_type": "stream",
          "text": [
            "100%|██████████| 300/300 [00:02<00:00, 104.90it/s]\n",
            "  3%|▎         | 10/300 [00:00<00:03, 89.87it/s]"
          ],
          "name": "stderr"
        },
        {
          "output_type": "stream",
          "text": [
            "average probability of fakeness: 0.09471615064698695\n",
            "Percentage of fakeness: 9.4716\n",
            "average probability of realness: 0.9052838302132759\n",
            "Percentage of realness: 90.5284\n",
            "REAL\n",
            "1\n",
            "\n",
            "Correct Prediction!!\n",
            "1\n",
            "\n",
            "Total Correct: 53\n",
            "Total Incorrect: 4\n",
            "Total: 57\n",
            "-----------------------------\n",
            "\n"
          ],
          "name": "stdout"
        },
        {
          "output_type": "stream",
          "text": [
            "100%|██████████| 300/300 [00:02<00:00, 147.46it/s]\n",
            "  2%|▏         | 7/300 [00:00<00:05, 58.44it/s]"
          ],
          "name": "stderr"
        },
        {
          "output_type": "stream",
          "text": [
            "average probability of fakeness: 0.37707456259522587\n",
            "Percentage of fakeness: 37.7075\n",
            "average probability of realness: 0.6229254107456654\n",
            "Percentage of realness: 62.2925\n",
            "REAL\n",
            "1\n",
            "\n",
            "Correct Prediction!!\n",
            "1\n",
            "\n",
            "Total Correct: 54\n",
            "Total Incorrect: 4\n",
            "Total: 58\n",
            "-----------------------------\n",
            "\n"
          ],
          "name": "stdout"
        },
        {
          "output_type": "stream",
          "text": [
            "100%|██████████| 300/300 [00:03<00:00, 93.49it/s]\n",
            "  2%|▏         | 7/300 [00:00<00:04, 58.88it/s]"
          ],
          "name": "stderr"
        },
        {
          "output_type": "stream",
          "text": [
            "average probability of fakeness: 0.27571216227740725\n",
            "Percentage of fakeness: 27.5712\n",
            "average probability of realness: 0.7242878191173077\n",
            "Percentage of realness: 72.4288\n",
            "REAL\n",
            "1\n",
            "\n",
            "Correct Prediction!!\n",
            "1\n",
            "\n",
            "Total Correct: 55\n",
            "Total Incorrect: 4\n",
            "Total: 59\n",
            "-----------------------------\n",
            "\n"
          ],
          "name": "stdout"
        },
        {
          "output_type": "stream",
          "text": [
            "100%|██████████| 300/300 [00:03<00:00, 91.26it/s]\n",
            "  2%|▏         | 7/300 [00:00<00:04, 69.60it/s]"
          ],
          "name": "stderr"
        },
        {
          "output_type": "stream",
          "text": [
            "average probability of fakeness: 0.9984369933605194\n",
            "Percentage of fakeness: 99.8437\n",
            "average probability of realness: 0.0015630028008672525\n",
            "Percentage of realness: 0.1563\n",
            "FAKE\n",
            "0\n",
            "\n",
            "Correct Prediction!!\n",
            "0\n",
            "\n",
            "Total Correct: 56\n",
            "Total Incorrect: 4\n",
            "Total: 60\n",
            "-----------------------------\n",
            "\n"
          ],
          "name": "stdout"
        },
        {
          "output_type": "stream",
          "text": [
            "100%|██████████| 300/300 [00:02<00:00, 109.60it/s]\n",
            "  2%|▏         | 7/300 [00:00<00:04, 59.11it/s]"
          ],
          "name": "stderr"
        },
        {
          "output_type": "stream",
          "text": [
            "average probability of fakeness: 0.9961686968803406\n",
            "Percentage of fakeness: 99.6169\n",
            "average probability of realness: 0.0038313182249794407\n",
            "Percentage of realness: 0.3831\n",
            "FAKE\n",
            "0\n",
            "\n",
            "Correct Prediction!!\n",
            "0\n",
            "\n",
            "Total Correct: 57\n",
            "Total Incorrect: 4\n",
            "Total: 61\n",
            "-----------------------------\n",
            "\n"
          ],
          "name": "stdout"
        },
        {
          "output_type": "stream",
          "text": [
            "100%|██████████| 300/300 [00:03<00:00, 94.14it/s]\n",
            "  2%|▏         | 5/300 [00:00<00:05, 49.77it/s]"
          ],
          "name": "stderr"
        },
        {
          "output_type": "stream",
          "text": [
            "average probability of fakeness: 0.9898089116269891\n",
            "Percentage of fakeness: 98.9809\n",
            "average probability of realness: 0.010191101420625676\n",
            "Percentage of realness: 1.0191\n",
            "FAKE\n",
            "0\n",
            "\n",
            "Correct Prediction!!\n",
            "0\n",
            "\n",
            "Total Correct: 58\n",
            "Total Incorrect: 4\n",
            "Total: 62\n",
            "-----------------------------\n",
            "\n"
          ],
          "name": "stdout"
        },
        {
          "output_type": "stream",
          "text": [
            "100%|██████████| 300/300 [00:03<00:00, 94.45it/s]\n",
            "  2%|▏         | 6/300 [00:00<00:04, 59.86it/s]"
          ],
          "name": "stderr"
        },
        {
          "output_type": "stream",
          "text": [
            "average probability of fakeness: 0.09422551540192217\n",
            "Percentage of fakeness: 9.4226\n",
            "average probability of realness: 0.9057744741439819\n",
            "Percentage of realness: 90.5774\n",
            "REAL\n",
            "1\n",
            "\n",
            "Correct Prediction!!\n",
            "1\n",
            "\n",
            "Total Correct: 59\n",
            "Total Incorrect: 4\n",
            "Total: 63\n",
            "-----------------------------\n",
            "\n"
          ],
          "name": "stdout"
        },
        {
          "output_type": "stream",
          "text": [
            "100%|██████████| 300/300 [00:03<00:00, 92.58it/s]\n",
            "  3%|▎         | 9/300 [00:00<00:03, 88.36it/s]"
          ],
          "name": "stderr"
        },
        {
          "output_type": "stream",
          "text": [
            "average probability of fakeness: 0.9763131320476532\n",
            "Percentage of fakeness: 97.6313\n",
            "average probability of realness: 0.023686864926003182\n",
            "Percentage of realness: 2.3687\n",
            "FAKE\n",
            "0\n",
            "\n",
            "Correct Prediction!!\n",
            "0\n",
            "\n",
            "Total Correct: 60\n",
            "Total Incorrect: 4\n",
            "Total: 64\n",
            "-----------------------------\n",
            "\n"
          ],
          "name": "stdout"
        },
        {
          "output_type": "stream",
          "text": [
            "100%|██████████| 300/300 [00:02<00:00, 144.47it/s]\n",
            "  2%|▏         | 7/300 [00:00<00:04, 60.48it/s]"
          ],
          "name": "stderr"
        },
        {
          "output_type": "stream",
          "text": [
            "average probability of fakeness: 0.004439916166302282\n",
            "Percentage of fakeness: 0.4440\n",
            "average probability of realness: 0.9955600798130035\n",
            "Percentage of realness: 99.5560\n",
            "REAL\n",
            "1\n",
            "\n",
            "Correct Prediction!!\n",
            "1\n",
            "\n",
            "Total Correct: 61\n",
            "Total Incorrect: 4\n",
            "Total: 65\n",
            "-----------------------------\n",
            "\n"
          ],
          "name": "stdout"
        },
        {
          "output_type": "stream",
          "text": [
            "100%|██████████| 300/300 [00:03<00:00, 91.98it/s]\n",
            "  3%|▎         | 9/300 [00:00<00:03, 83.29it/s]"
          ],
          "name": "stderr"
        },
        {
          "output_type": "stream",
          "text": [
            "average probability of fakeness: 0.05995837359593927\n",
            "Percentage of fakeness: 5.9958\n",
            "average probability of realness: 0.9400416124950756\n",
            "Percentage of realness: 94.0042\n",
            "REAL\n",
            "1\n",
            "\n",
            "Correct Prediction!!\n",
            "1\n",
            "\n",
            "Total Correct: 62\n",
            "Total Incorrect: 4\n",
            "Total: 66\n",
            "-----------------------------\n",
            "\n"
          ],
          "name": "stdout"
        },
        {
          "output_type": "stream",
          "text": [
            "100%|██████████| 300/300 [00:02<00:00, 114.99it/s]\n",
            "  2%|▏         | 7/300 [00:00<00:04, 69.30it/s]"
          ],
          "name": "stderr"
        },
        {
          "output_type": "stream",
          "text": [
            "average probability of fakeness: 0.9643190562725067\n",
            "Percentage of fakeness: 96.4319\n",
            "average probability of realness: 0.03568094289294095\n",
            "Percentage of realness: 3.5681\n",
            "FAKE\n",
            "0\n",
            "\n",
            "Correct Prediction!!\n",
            "0\n",
            "\n",
            "Total Correct: 63\n",
            "Total Incorrect: 4\n",
            "Total: 67\n",
            "-----------------------------\n",
            "\n"
          ],
          "name": "stdout"
        },
        {
          "output_type": "stream",
          "text": [
            "100%|██████████| 300/300 [00:02<00:00, 118.32it/s]\n",
            "  2%|▏         | 7/300 [00:00<00:04, 60.09it/s]"
          ],
          "name": "stderr"
        },
        {
          "output_type": "stream",
          "text": [
            "average probability of fakeness: 0.015016265060694423\n",
            "Percentage of fakeness: 1.5016\n",
            "average probability of realness: 0.9849837530742992\n",
            "Percentage of realness: 98.4984\n",
            "REAL\n",
            "1\n",
            "\n",
            "Correct Prediction!!\n",
            "1\n",
            "\n",
            "Total Correct: 64\n",
            "Total Incorrect: 4\n",
            "Total: 68\n",
            "-----------------------------\n",
            "\n"
          ],
          "name": "stdout"
        },
        {
          "output_type": "stream",
          "text": [
            "100%|██████████| 300/300 [00:03<00:00, 95.13it/s]\n",
            "  3%|▎         | 8/300 [00:00<00:03, 76.30it/s]"
          ],
          "name": "stderr"
        },
        {
          "output_type": "stream",
          "text": [
            "average probability of fakeness: 0.9741864672728947\n",
            "Percentage of fakeness: 97.4186\n",
            "average probability of realness: 0.02581351959582077\n",
            "Percentage of realness: 2.5814\n",
            "FAKE\n",
            "0\n",
            "\n",
            "Correct Prediction!!\n",
            "0\n",
            "\n",
            "Total Correct: 65\n",
            "Total Incorrect: 4\n",
            "Total: 69\n",
            "-----------------------------\n",
            "\n"
          ],
          "name": "stdout"
        },
        {
          "output_type": "stream",
          "text": [
            "100%|██████████| 300/300 [00:02<00:00, 114.25it/s]\n",
            "  2%|▏         | 5/300 [00:00<00:06, 43.70it/s]"
          ],
          "name": "stderr"
        },
        {
          "output_type": "stream",
          "text": [
            "average probability of fakeness: 0.9095079435242547\n",
            "Percentage of fakeness: 90.9508\n",
            "average probability of realness: 0.09049206682377392\n",
            "Percentage of realness: 9.0492\n",
            "FAKE\n",
            "0\n",
            "\n",
            "Correct Prediction!!\n",
            "0\n",
            "\n",
            "Total Correct: 66\n",
            "Total Incorrect: 4\n",
            "Total: 70\n",
            "-----------------------------\n",
            "\n"
          ],
          "name": "stdout"
        },
        {
          "output_type": "stream",
          "text": [
            "100%|██████████| 300/300 [00:03<00:00, 84.37it/s]\n",
            "  2%|▏         | 7/300 [00:00<00:04, 61.80it/s]"
          ],
          "name": "stderr"
        },
        {
          "output_type": "stream",
          "text": [
            "average probability of fakeness: 0.2450005930615589\n",
            "Percentage of fakeness: 24.5001\n",
            "average probability of realness: 0.7549994111061096\n",
            "Percentage of realness: 75.4999\n",
            "REAL\n",
            "1\n",
            "\n",
            "Correct Prediction!!\n",
            "1\n",
            "\n",
            "Total Correct: 67\n",
            "Total Incorrect: 4\n",
            "Total: 71\n",
            "-----------------------------\n",
            "\n"
          ],
          "name": "stdout"
        },
        {
          "output_type": "stream",
          "text": [
            "100%|██████████| 300/300 [00:03<00:00, 92.43it/s]\n",
            "  3%|▎         | 8/300 [00:00<00:03, 79.46it/s]"
          ],
          "name": "stderr"
        },
        {
          "output_type": "stream",
          "text": [
            "average probability of fakeness: 0.9476978480815887\n",
            "Percentage of fakeness: 94.7698\n",
            "average probability of realness: 0.05230216381551145\n",
            "Percentage of realness: 5.2302\n",
            "FAKE\n",
            "0\n",
            "\n",
            "Correct Prediction!!\n",
            "0\n",
            "\n",
            "Total Correct: 68\n",
            "Total Incorrect: 4\n",
            "Total: 72\n",
            "-----------------------------\n",
            "\n"
          ],
          "name": "stdout"
        },
        {
          "output_type": "stream",
          "text": [
            "100%|██████████| 300/300 [00:02<00:00, 115.53it/s]\n",
            "  2%|▏         | 7/300 [00:00<00:04, 66.31it/s]"
          ],
          "name": "stderr"
        },
        {
          "output_type": "stream",
          "text": [
            "average probability of fakeness: 0.9979752123355865\n",
            "Percentage of fakeness: 99.7975\n",
            "average probability of realness: 0.002024780857937003\n",
            "Percentage of realness: 0.2025\n",
            "FAKE\n",
            "0\n",
            "\n",
            "Correct Prediction!!\n",
            "0\n",
            "\n",
            "Total Correct: 69\n",
            "Total Incorrect: 4\n",
            "Total: 73\n",
            "-----------------------------\n",
            "\n"
          ],
          "name": "stdout"
        },
        {
          "output_type": "stream",
          "text": [
            "100%|██████████| 300/300 [00:02<00:00, 112.33it/s]\n",
            "  4%|▎         | 11/300 [00:00<00:02, 103.43it/s]"
          ],
          "name": "stderr"
        },
        {
          "output_type": "stream",
          "text": [
            "average probability of fakeness: 0.009829472601995803\n",
            "Percentage of fakeness: 0.9829\n",
            "average probability of realness: 0.9901705205440521\n",
            "Percentage of realness: 99.0171\n",
            "REAL\n",
            "1\n",
            "\n",
            "Correct Prediction!!\n",
            "1\n",
            "\n",
            "Total Correct: 70\n",
            "Total Incorrect: 4\n",
            "Total: 74\n",
            "-----------------------------\n",
            "\n"
          ],
          "name": "stdout"
        },
        {
          "output_type": "stream",
          "text": [
            "100%|██████████| 300/300 [00:02<00:00, 141.33it/s]\n",
            "  3%|▎         | 9/300 [00:00<00:03, 89.86it/s]"
          ],
          "name": "stderr"
        },
        {
          "output_type": "stream",
          "text": [
            "average probability of fakeness: 0.19190053230461976\n",
            "Percentage of fakeness: 19.1901\n",
            "average probability of realness: 0.8080994680446262\n",
            "Percentage of realness: 80.8099\n",
            "REAL\n",
            "1\n",
            "\n",
            "Correct Prediction!!\n",
            "1\n",
            "\n",
            "Total Correct: 71\n",
            "Total Incorrect: 4\n",
            "Total: 75\n",
            "-----------------------------\n",
            "\n"
          ],
          "name": "stdout"
        },
        {
          "output_type": "stream",
          "text": [
            "100%|██████████| 300/300 [00:02<00:00, 140.48it/s]\n",
            "  2%|▏         | 7/300 [00:00<00:05, 58.03it/s]"
          ],
          "name": "stderr"
        },
        {
          "output_type": "stream",
          "text": [
            "average probability of fakeness: 0.9917956640323004\n",
            "Percentage of fakeness: 99.1796\n",
            "average probability of realness: 0.008204328536673225\n",
            "Percentage of realness: 0.8204\n",
            "FAKE\n",
            "0\n",
            "\n",
            "Correct Prediction!!\n",
            "0\n",
            "\n",
            "Total Correct: 72\n",
            "Total Incorrect: 4\n",
            "Total: 76\n",
            "-----------------------------\n",
            "\n"
          ],
          "name": "stdout"
        },
        {
          "output_type": "stream",
          "text": [
            "100%|██████████| 300/300 [00:03<00:00, 90.01it/s]\n",
            "  3%|▎         | 10/300 [00:00<00:03, 95.53it/s]"
          ],
          "name": "stderr"
        },
        {
          "output_type": "stream",
          "text": [
            "average probability of fakeness: 0.996508468281139\n",
            "Percentage of fakeness: 99.6508\n",
            "average probability of realness: 0.003491515656337056\n",
            "Percentage of realness: 0.3492\n",
            "FAKE\n",
            "0\n",
            "\n",
            "Correct Prediction!!\n",
            "0\n",
            "\n",
            "Total Correct: 73\n",
            "Total Incorrect: 4\n",
            "Total: 77\n",
            "-----------------------------\n",
            "\n"
          ],
          "name": "stdout"
        },
        {
          "output_type": "stream",
          "text": [
            "100%|██████████| 300/300 [00:02<00:00, 149.45it/s]\n",
            "  3%|▎         | 8/300 [00:00<00:03, 77.02it/s]"
          ],
          "name": "stderr"
        },
        {
          "output_type": "stream",
          "text": [
            "average probability of fakeness: 0.2439522712598913\n",
            "Percentage of fakeness: 24.3952\n",
            "average probability of realness: 0.7560477472411898\n",
            "Percentage of realness: 75.6048\n",
            "REAL\n",
            "1\n",
            "\n",
            "Correct Prediction!!\n",
            "1\n",
            "\n",
            "Total Correct: 74\n",
            "Total Incorrect: 4\n",
            "Total: 78\n",
            "-----------------------------\n",
            "\n"
          ],
          "name": "stdout"
        },
        {
          "output_type": "stream",
          "text": [
            "100%|██████████| 300/300 [00:02<00:00, 116.11it/s]\n",
            "  3%|▎         | 10/300 [00:00<00:03, 94.87it/s]"
          ],
          "name": "stderr"
        },
        {
          "output_type": "stream",
          "text": [
            "average probability of fakeness: 0.9624668776988983\n",
            "Percentage of fakeness: 96.2467\n",
            "average probability of realness: 0.037533123162575066\n",
            "Percentage of realness: 3.7533\n",
            "FAKE\n",
            "0\n",
            "\n",
            "Correct Prediction!!\n",
            "0\n",
            "\n",
            "Total Correct: 75\n",
            "Total Incorrect: 4\n",
            "Total: 79\n",
            "-----------------------------\n",
            "\n"
          ],
          "name": "stdout"
        },
        {
          "output_type": "stream",
          "text": [
            "100%|██████████| 300/300 [00:02<00:00, 142.82it/s]\n",
            "  3%|▎         | 10/300 [00:00<00:02, 99.47it/s]"
          ],
          "name": "stderr"
        },
        {
          "output_type": "stream",
          "text": [
            "average probability of fakeness: 0.2292238803795324\n",
            "Percentage of fakeness: 22.9224\n",
            "average probability of realness: 0.7707761245278212\n",
            "Percentage of realness: 77.0776\n",
            "REAL\n",
            "1\n",
            "\n",
            "Correct Prediction!!\n",
            "1\n",
            "\n",
            "Total Correct: 76\n",
            "Total Incorrect: 4\n",
            "Total: 80\n",
            "-----------------------------\n",
            "\n"
          ],
          "name": "stdout"
        },
        {
          "output_type": "stream",
          "text": [
            "100%|██████████| 300/300 [00:02<00:00, 129.01it/s]\n",
            "  3%|▎         | 8/300 [00:00<00:03, 74.41it/s]"
          ],
          "name": "stderr"
        },
        {
          "output_type": "stream",
          "text": [
            "average probability of fakeness: 0.38558914740216016\n",
            "Percentage of fakeness: 38.5589\n",
            "average probability of realness: 0.6144108554687012\n",
            "Percentage of realness: 61.4411\n",
            "REAL\n",
            "1\n",
            "\n",
            "Correct Prediction!!\n",
            "1\n",
            "\n",
            "Total Correct: 77\n",
            "Total Incorrect: 4\n",
            "Total: 81\n",
            "-----------------------------\n",
            "\n"
          ],
          "name": "stdout"
        },
        {
          "output_type": "stream",
          "text": [
            "100%|██████████| 300/300 [00:02<00:00, 106.54it/s]\n",
            "  2%|▏         | 7/300 [00:00<00:04, 62.21it/s]"
          ],
          "name": "stderr"
        },
        {
          "output_type": "stream",
          "text": [
            "average probability of fakeness: 0.9923009872436523\n",
            "Percentage of fakeness: 99.2301\n",
            "average probability of realness: 0.007699020732252393\n",
            "Percentage of realness: 0.7699\n",
            "FAKE\n",
            "0\n",
            "\n",
            "Correct Prediction!!\n",
            "0\n",
            "\n",
            "Total Correct: 78\n",
            "Total Incorrect: 4\n",
            "Total: 82\n",
            "-----------------------------\n",
            "\n"
          ],
          "name": "stdout"
        },
        {
          "output_type": "stream",
          "text": [
            "100%|██████████| 300/300 [00:03<00:00, 91.68it/s]\n",
            "  2%|▏         | 6/300 [00:00<00:05, 56.47it/s]"
          ],
          "name": "stderr"
        },
        {
          "output_type": "stream",
          "text": [
            "average probability of fakeness: 0.9953257495706732\n",
            "Percentage of fakeness: 99.5326\n",
            "average probability of realness: 0.00467425919354851\n",
            "Percentage of realness: 0.4674\n",
            "FAKE\n",
            "0\n",
            "\n",
            "Correct Prediction!!\n",
            "0\n",
            "\n",
            "Total Correct: 79\n",
            "Total Incorrect: 4\n",
            "Total: 83\n",
            "-----------------------------\n",
            "\n"
          ],
          "name": "stdout"
        },
        {
          "output_type": "stream",
          "text": [
            "100%|██████████| 300/300 [00:03<00:00, 89.59it/s]\n",
            "  3%|▎         | 8/300 [00:00<00:03, 76.43it/s]"
          ],
          "name": "stderr"
        },
        {
          "output_type": "stream",
          "text": [
            "average probability of fakeness: 0.9770895676179365\n",
            "Percentage of fakeness: 97.7090\n",
            "average probability of realness: 0.022910429603970526\n",
            "Percentage of realness: 2.2910\n",
            "FAKE\n",
            "0\n",
            "\n",
            "Correct Prediction!!\n",
            "0\n",
            "\n",
            "Total Correct: 80\n",
            "Total Incorrect: 4\n",
            "Total: 84\n",
            "-----------------------------\n",
            "\n"
          ],
          "name": "stdout"
        },
        {
          "output_type": "stream",
          "text": [
            "100%|██████████| 300/300 [00:02<00:00, 112.75it/s]\n",
            "  2%|▏         | 7/300 [00:00<00:04, 66.71it/s]"
          ],
          "name": "stderr"
        },
        {
          "output_type": "stream",
          "text": [
            "average probability of fakeness: 0.9990932464599609\n",
            "Percentage of fakeness: 99.9093\n",
            "average probability of realness: 0.0009067429571587126\n",
            "Percentage of realness: 0.0907\n",
            "FAKE\n",
            "0\n",
            "\n",
            "Correct Prediction!!\n",
            "0\n",
            "\n",
            "Total Correct: 81\n",
            "Total Incorrect: 4\n",
            "Total: 85\n",
            "-----------------------------\n",
            "\n"
          ],
          "name": "stdout"
        },
        {
          "output_type": "stream",
          "text": [
            "100%|██████████| 300/300 [00:02<00:00, 109.05it/s]\n",
            "  2%|▏         | 7/300 [00:00<00:05, 57.54it/s]"
          ],
          "name": "stderr"
        },
        {
          "output_type": "stream",
          "text": [
            "average probability of fakeness: 0.9706959545612335\n",
            "Percentage of fakeness: 97.0696\n",
            "average probability of realness: 0.02930402679994586\n",
            "Percentage of realness: 2.9304\n",
            "FAKE\n",
            "0\n",
            "\n",
            "Correct Prediction!!\n",
            "0\n",
            "\n",
            "Total Correct: 82\n",
            "Total Incorrect: 4\n",
            "Total: 86\n",
            "-----------------------------\n",
            "\n"
          ],
          "name": "stdout"
        },
        {
          "output_type": "stream",
          "text": [
            "100%|██████████| 300/300 [00:03<00:00, 94.58it/s]\n",
            "  2%|▏         | 7/300 [00:00<00:04, 69.66it/s]"
          ],
          "name": "stderr"
        },
        {
          "output_type": "stream",
          "text": [
            "average probability of fakeness: 0.9849133328957991\n",
            "Percentage of fakeness: 98.4913\n",
            "average probability of realness: 0.015086663761229085\n",
            "Percentage of realness: 1.5087\n",
            "FAKE\n",
            "0\n",
            "\n",
            "Correct Prediction!!\n",
            "0\n",
            "\n",
            "Total Correct: 83\n",
            "Total Incorrect: 4\n",
            "Total: 87\n",
            "-----------------------------\n",
            "\n"
          ],
          "name": "stdout"
        },
        {
          "output_type": "stream",
          "text": [
            "100%|██████████| 300/300 [00:02<00:00, 112.27it/s]\n",
            "  2%|▏         | 5/300 [00:00<00:06, 48.71it/s]"
          ],
          "name": "stderr"
        },
        {
          "output_type": "stream",
          "text": [
            "average probability of fakeness: 0.9782107710838318\n",
            "Percentage of fakeness: 97.8211\n",
            "average probability of realness: 0.021789216206525453\n",
            "Percentage of realness: 2.1789\n",
            "FAKE\n",
            "0\n",
            "\n",
            "Correct Prediction!!\n",
            "0\n",
            "\n",
            "Total Correct: 84\n",
            "Total Incorrect: 4\n",
            "Total: 88\n",
            "-----------------------------\n",
            "\n"
          ],
          "name": "stdout"
        },
        {
          "output_type": "stream",
          "text": [
            "100%|██████████| 300/300 [00:03<00:00, 88.93it/s]\n",
            "  3%|▎         | 9/300 [00:00<00:03, 84.00it/s]"
          ],
          "name": "stderr"
        },
        {
          "output_type": "stream",
          "text": [
            "average probability of fakeness: 0.20205312268808484\n",
            "Percentage of fakeness: 20.2053\n",
            "average probability of realness: 0.7979468643665314\n",
            "Percentage of realness: 79.7947\n",
            "REAL\n",
            "1\n",
            "\n",
            "Correct Prediction!!\n",
            "1\n",
            "\n",
            "Total Correct: 85\n",
            "Total Incorrect: 4\n",
            "Total: 89\n",
            "-----------------------------\n",
            "\n"
          ],
          "name": "stdout"
        },
        {
          "output_type": "stream",
          "text": [
            "100%|██████████| 300/300 [00:02<00:00, 117.54it/s]\n",
            "  2%|▏         | 7/300 [00:00<00:04, 60.62it/s]"
          ],
          "name": "stderr"
        },
        {
          "output_type": "stream",
          "text": [
            "average probability of fakeness: 0.821915352344513\n",
            "Percentage of fakeness: 82.1915\n",
            "average probability of realness: 0.17808464653789996\n",
            "Percentage of realness: 17.8085\n",
            "REAL\n",
            "1\n",
            "\n",
            "Incorrect.\n",
            "0\n",
            "\n",
            "Total Correct: 85\n",
            "Total Incorrect: 5\n",
            "Total: 90\n",
            "-----------------------------\n",
            "\n"
          ],
          "name": "stdout"
        },
        {
          "output_type": "stream",
          "text": [
            "100%|██████████| 300/300 [00:03<00:00, 93.00it/s]\n",
            "  4%|▎         | 11/300 [00:00<00:02, 104.16it/s]"
          ],
          "name": "stderr"
        },
        {
          "output_type": "stream",
          "text": [
            "average probability of fakeness: 0.9400173588232561\n",
            "Percentage of fakeness: 94.0017\n",
            "average probability of realness: 0.059982649714749474\n",
            "Percentage of realness: 5.9983\n",
            "FAKE\n",
            "0\n",
            "\n",
            "Correct Prediction!!\n",
            "0\n",
            "\n",
            "Total Correct: 86\n",
            "Total Incorrect: 5\n",
            "Total: 91\n",
            "-----------------------------\n",
            "\n"
          ],
          "name": "stdout"
        },
        {
          "output_type": "stream",
          "text": [
            "100%|██████████| 300/300 [00:02<00:00, 135.13it/s]\n",
            "  4%|▎         | 11/300 [00:00<00:02, 96.99it/s]"
          ],
          "name": "stderr"
        },
        {
          "output_type": "stream",
          "text": [
            "average probability of fakeness: 0.431595700620495\n",
            "Percentage of fakeness: 43.1596\n",
            "average probability of realness: 0.568404302678325\n",
            "Percentage of realness: 56.8404\n",
            "REAL\n",
            "1\n",
            "\n",
            "Correct Prediction!!\n",
            "1\n",
            "\n",
            "Total Correct: 87\n",
            "Total Incorrect: 5\n",
            "Total: 92\n",
            "-----------------------------\n",
            "\n"
          ],
          "name": "stdout"
        },
        {
          "output_type": "stream",
          "text": [
            "100%|██████████| 300/300 [00:02<00:00, 147.81it/s]\n",
            "  3%|▎         | 9/300 [00:00<00:03, 81.29it/s]"
          ],
          "name": "stderr"
        },
        {
          "output_type": "stream",
          "text": [
            "average probability of fakeness: 0.9954251488049825\n",
            "Percentage of fakeness: 99.5425\n",
            "average probability of realness: 0.004574845101039197\n",
            "Percentage of realness: 0.4575\n",
            "FAKE\n",
            "0\n",
            "\n",
            "Correct Prediction!!\n",
            "0\n",
            "\n",
            "Total Correct: 88\n",
            "Total Incorrect: 5\n",
            "Total: 93\n",
            "-----------------------------\n",
            "\n"
          ],
          "name": "stdout"
        },
        {
          "output_type": "stream",
          "text": [
            "100%|██████████| 300/300 [00:02<00:00, 115.23it/s]\n",
            "  2%|▏         | 6/300 [00:00<00:04, 58.93it/s]"
          ],
          "name": "stderr"
        },
        {
          "output_type": "stream",
          "text": [
            "average probability of fakeness: 0.9927024662494659\n",
            "Percentage of fakeness: 99.2702\n",
            "average probability of realness: 0.0072975292685441675\n",
            "Percentage of realness: 0.7298\n",
            "FAKE\n",
            "0\n",
            "\n",
            "Correct Prediction!!\n",
            "0\n",
            "\n",
            "Total Correct: 89\n",
            "Total Incorrect: 5\n",
            "Total: 94\n",
            "-----------------------------\n",
            "\n"
          ],
          "name": "stdout"
        },
        {
          "output_type": "stream",
          "text": [
            "100%|██████████| 300/300 [00:03<00:00, 91.57it/s]\n",
            "  2%|▏         | 7/300 [00:00<00:04, 63.88it/s]"
          ],
          "name": "stderr"
        },
        {
          "output_type": "stream",
          "text": [
            "average probability of fakeness: 0.9510837359861894\n",
            "Percentage of fakeness: 95.1084\n",
            "average probability of realness: 0.048916295848109505\n",
            "Percentage of realness: 4.8916\n",
            "FAKE\n",
            "0\n",
            "\n",
            "Correct Prediction!!\n",
            "0\n",
            "\n",
            "Total Correct: 90\n",
            "Total Incorrect: 5\n",
            "Total: 95\n",
            "-----------------------------\n",
            "\n"
          ],
          "name": "stdout"
        },
        {
          "output_type": "stream",
          "text": [
            "100%|██████████| 300/300 [00:03<00:00, 91.55it/s]\n",
            "  2%|▏         | 7/300 [00:00<00:04, 59.57it/s]"
          ],
          "name": "stderr"
        },
        {
          "output_type": "stream",
          "text": [
            "average probability of fakeness: 0.9931171437104543\n",
            "Percentage of fakeness: 99.3117\n",
            "average probability of realness: 0.006882872304800003\n",
            "Percentage of realness: 0.6883\n",
            "FAKE\n",
            "0\n",
            "\n",
            "Correct Prediction!!\n",
            "0\n",
            "\n",
            "Total Correct: 91\n",
            "Total Incorrect: 5\n",
            "Total: 96\n",
            "-----------------------------\n",
            "\n"
          ],
          "name": "stdout"
        },
        {
          "output_type": "stream",
          "text": [
            "100%|██████████| 300/300 [00:03<00:00, 90.11it/s]\n",
            "  3%|▎         | 8/300 [00:00<00:03, 77.63it/s]"
          ],
          "name": "stderr"
        },
        {
          "output_type": "stream",
          "text": [
            "average probability of fakeness: 0.9866694699634205\n",
            "Percentage of fakeness: 98.6669\n",
            "average probability of realness: 0.01333053926778534\n",
            "Percentage of realness: 1.3331\n",
            "FAKE\n",
            "0\n",
            "\n",
            "Correct Prediction!!\n",
            "0\n",
            "\n",
            "Total Correct: 92\n",
            "Total Incorrect: 5\n",
            "Total: 97\n",
            "-----------------------------\n",
            "\n"
          ],
          "name": "stdout"
        },
        {
          "output_type": "stream",
          "text": [
            "100%|██████████| 300/300 [00:02<00:00, 118.09it/s]\n",
            "  3%|▎         | 8/300 [00:00<00:03, 79.96it/s]"
          ],
          "name": "stderr"
        },
        {
          "output_type": "stream",
          "text": [
            "average probability of fakeness: 0.9991417288780212\n",
            "Percentage of fakeness: 99.9142\n",
            "average probability of realness: 0.0008582440794270951\n",
            "Percentage of realness: 0.0858\n",
            "FAKE\n",
            "0\n",
            "\n",
            "Correct Prediction!!\n",
            "0\n",
            "\n",
            "Total Correct: 93\n",
            "Total Incorrect: 5\n",
            "Total: 98\n",
            "-----------------------------\n",
            "\n"
          ],
          "name": "stdout"
        },
        {
          "output_type": "stream",
          "text": [
            "100%|██████████| 300/300 [00:02<00:00, 138.67it/s]\n",
            "  2%|▏         | 7/300 [00:00<00:04, 69.21it/s]"
          ],
          "name": "stderr"
        },
        {
          "output_type": "stream",
          "text": [
            "average probability of fakeness: 0.28812924265469064\n",
            "Percentage of fakeness: 28.8129\n",
            "average probability of realness: 0.7118707676418126\n",
            "Percentage of realness: 71.1871\n",
            "REAL\n",
            "1\n",
            "\n",
            "Correct Prediction!!\n",
            "1\n",
            "\n",
            "Total Correct: 94\n",
            "Total Incorrect: 5\n",
            "Total: 99\n",
            "-----------------------------\n",
            "\n"
          ],
          "name": "stdout"
        },
        {
          "output_type": "stream",
          "text": [
            "100%|██████████| 300/300 [00:02<00:00, 111.32it/s]\n",
            "  3%|▎         | 9/300 [00:00<00:03, 79.55it/s]"
          ],
          "name": "stderr"
        },
        {
          "output_type": "stream",
          "text": [
            "average probability of fakeness: 0.01580256151448173\n",
            "Percentage of fakeness: 1.5803\n",
            "average probability of realness: 0.9841974215074019\n",
            "Percentage of realness: 98.4197\n",
            "REAL\n",
            "1\n",
            "\n",
            "Correct Prediction!!\n",
            "1\n",
            "\n",
            "Total Correct: 95\n",
            "Total Incorrect: 5\n",
            "Total: 100\n",
            "-----------------------------\n",
            "\n"
          ],
          "name": "stdout"
        },
        {
          "output_type": "stream",
          "text": [
            "100%|██████████| 300/300 [00:02<00:00, 114.18it/s]\n",
            "  2%|▏         | 7/300 [00:00<00:04, 61.76it/s]"
          ],
          "name": "stderr"
        },
        {
          "output_type": "stream",
          "text": [
            "average probability of fakeness: 0.9955938220024109\n",
            "Percentage of fakeness: 99.5594\n",
            "average probability of realness: 0.004406169800040516\n",
            "Percentage of realness: 0.4406\n",
            "FAKE\n",
            "0\n",
            "\n",
            "Correct Prediction!!\n",
            "0\n",
            "\n",
            "Total Correct: 96\n",
            "Total Incorrect: 5\n",
            "Total: 101\n",
            "-----------------------------\n",
            "\n"
          ],
          "name": "stdout"
        },
        {
          "output_type": "stream",
          "text": [
            "100%|██████████| 300/300 [00:03<00:00, 95.14it/s]\n",
            "  2%|▏         | 7/300 [00:00<00:04, 59.61it/s]"
          ],
          "name": "stderr"
        },
        {
          "output_type": "stream",
          "text": [
            "average probability of fakeness: 0.9453885446895253\n",
            "Percentage of fakeness: 94.5389\n",
            "average probability of realness: 0.05461146656307392\n",
            "Percentage of realness: 5.4611\n",
            "FAKE\n",
            "0\n",
            "\n",
            "Correct Prediction!!\n",
            "0\n",
            "\n",
            "Total Correct: 97\n",
            "Total Incorrect: 5\n",
            "Total: 102\n",
            "-----------------------------\n",
            "\n"
          ],
          "name": "stdout"
        },
        {
          "output_type": "stream",
          "text": [
            "100%|██████████| 300/300 [00:03<00:00, 92.02it/s]\n",
            "  3%|▎         | 9/300 [00:00<00:03, 86.84it/s]"
          ],
          "name": "stderr"
        },
        {
          "output_type": "stream",
          "text": [
            "average probability of fakeness: 0.9848335602066733\n",
            "Percentage of fakeness: 98.4834\n",
            "average probability of realness: 0.015166438081326884\n",
            "Percentage of realness: 1.5166\n",
            "FAKE\n",
            "0\n",
            "\n",
            "Correct Prediction!!\n",
            "0\n",
            "\n",
            "Total Correct: 98\n",
            "Total Incorrect: 5\n",
            "Total: 103\n",
            "-----------------------------\n",
            "\n"
          ],
          "name": "stdout"
        },
        {
          "output_type": "stream",
          "text": [
            "100%|██████████| 300/300 [00:02<00:00, 126.06it/s]\n",
            "  2%|▏         | 7/300 [00:00<00:04, 64.63it/s]"
          ],
          "name": "stderr"
        },
        {
          "output_type": "stream",
          "text": [
            "average probability of fakeness: 0.9263988137245178\n",
            "Percentage of fakeness: 92.6399\n",
            "average probability of realness: 0.07360118286123907\n",
            "Percentage of realness: 7.3601\n",
            "FAKE\n",
            "0\n",
            "\n",
            "Correct Prediction!!\n",
            "0\n",
            "\n",
            "Total Correct: 99\n",
            "Total Incorrect: 5\n",
            "Total: 104\n",
            "-----------------------------\n",
            "\n"
          ],
          "name": "stdout"
        },
        {
          "output_type": "stream",
          "text": [
            "100%|██████████| 300/300 [00:02<00:00, 124.50it/s]\n",
            "  3%|▎         | 10/300 [00:00<00:03, 90.58it/s]"
          ],
          "name": "stderr"
        },
        {
          "output_type": "stream",
          "text": [
            "average probability of fakeness: 0.9846490451267788\n",
            "Percentage of fakeness: 98.4649\n",
            "average probability of realness: 0.015350957966899972\n",
            "Percentage of realness: 1.5351\n",
            "FAKE\n",
            "0\n",
            "\n",
            "Correct Prediction!!\n",
            "0\n",
            "\n",
            "Total Correct: 100\n",
            "Total Incorrect: 5\n",
            "Total: 105\n",
            "-----------------------------\n",
            "\n"
          ],
          "name": "stdout"
        },
        {
          "output_type": "stream",
          "text": [
            "100%|██████████| 300/300 [00:02<00:00, 137.45it/s]\n",
            "  2%|▏         | 7/300 [00:00<00:04, 58.89it/s]"
          ],
          "name": "stderr"
        },
        {
          "output_type": "stream",
          "text": [
            "average probability of fakeness: 0.2695850253662987\n",
            "Percentage of fakeness: 26.9585\n",
            "average probability of realness: 0.7304149849961201\n",
            "Percentage of realness: 73.0415\n",
            "REAL\n",
            "1\n",
            "\n",
            "Correct Prediction!!\n",
            "1\n",
            "\n",
            "Total Correct: 101\n",
            "Total Incorrect: 5\n",
            "Total: 106\n",
            "-----------------------------\n",
            "\n"
          ],
          "name": "stdout"
        },
        {
          "output_type": "stream",
          "text": [
            "100%|██████████| 300/300 [00:03<00:00, 92.21it/s]\n",
            "  3%|▎         | 8/300 [00:00<00:03, 79.97it/s]"
          ],
          "name": "stderr"
        },
        {
          "output_type": "stream",
          "text": [
            "average probability of fakeness: 0.4608809635198365\n",
            "Percentage of fakeness: 46.0881\n",
            "average probability of realness: 0.5391190381099781\n",
            "Percentage of realness: 53.9119\n",
            "REAL\n",
            "1\n",
            "\n",
            "Correct Prediction!!\n",
            "1\n",
            "\n",
            "Total Correct: 102\n",
            "Total Incorrect: 5\n",
            "Total: 107\n",
            "-----------------------------\n",
            "\n"
          ],
          "name": "stdout"
        },
        {
          "output_type": "stream",
          "text": [
            "100%|██████████| 300/300 [00:02<00:00, 113.63it/s]\n",
            "  3%|▎         | 8/300 [00:00<00:03, 78.66it/s]"
          ],
          "name": "stderr"
        },
        {
          "output_type": "stream",
          "text": [
            "average probability of fakeness: 0.9694827437400818\n",
            "Percentage of fakeness: 96.9483\n",
            "average probability of realness: 0.030517255829181522\n",
            "Percentage of realness: 3.0517\n",
            "FAKE\n",
            "0\n",
            "\n",
            "Correct Prediction!!\n",
            "0\n",
            "\n",
            "Total Correct: 103\n",
            "Total Incorrect: 5\n",
            "Total: 108\n",
            "-----------------------------\n",
            "\n"
          ],
          "name": "stdout"
        },
        {
          "output_type": "stream",
          "text": [
            "100%|██████████| 300/300 [00:02<00:00, 117.55it/s]\n",
            "  2%|▏         | 5/300 [00:00<00:06, 47.99it/s]"
          ],
          "name": "stderr"
        },
        {
          "output_type": "stream",
          "text": [
            "average probability of fakeness: 0.9505365192890167\n",
            "Percentage of fakeness: 95.0537\n",
            "average probability of realness: 0.04946350211539539\n",
            "Percentage of realness: 4.9464\n",
            "FAKE\n",
            "0\n",
            "\n",
            "Correct Prediction!!\n",
            "0\n",
            "\n",
            "Total Correct: 104\n",
            "Total Incorrect: 5\n",
            "Total: 109\n",
            "-----------------------------\n",
            "\n"
          ],
          "name": "stdout"
        },
        {
          "output_type": "stream",
          "text": [
            "100%|██████████| 300/300 [00:03<00:00, 94.46it/s]\n",
            "  3%|▎         | 9/300 [00:00<00:03, 87.75it/s]"
          ],
          "name": "stderr"
        },
        {
          "output_type": "stream",
          "text": [
            "average probability of fakeness: 0.9747749626636505\n",
            "Percentage of fakeness: 97.4775\n",
            "average probability of realness: 0.02522504214384753\n",
            "Percentage of realness: 2.5225\n",
            "FAKE\n",
            "0\n",
            "\n",
            "Correct Prediction!!\n",
            "0\n",
            "\n",
            "Total Correct: 105\n",
            "Total Incorrect: 5\n",
            "Total: 110\n",
            "-----------------------------\n",
            "\n"
          ],
          "name": "stdout"
        },
        {
          "output_type": "stream",
          "text": [
            "100%|██████████| 300/300 [00:02<00:00, 116.90it/s]\n",
            "  3%|▎         | 8/300 [00:00<00:03, 79.21it/s]"
          ],
          "name": "stderr"
        },
        {
          "output_type": "stream",
          "text": [
            "average probability of fakeness: 0.05123160061339149\n",
            "Percentage of fakeness: 5.1232\n",
            "average probability of realness: 0.9487684120734533\n",
            "Percentage of realness: 94.8768\n",
            "REAL\n",
            "1\n",
            "\n",
            "Correct Prediction!!\n",
            "1\n",
            "\n",
            "Total Correct: 106\n",
            "Total Incorrect: 5\n",
            "Total: 111\n",
            "-----------------------------\n",
            "\n"
          ],
          "name": "stdout"
        },
        {
          "output_type": "stream",
          "text": [
            "100%|██████████| 300/300 [00:02<00:00, 108.40it/s]\n",
            "  2%|▏         | 7/300 [00:00<00:04, 62.27it/s]"
          ],
          "name": "stderr"
        },
        {
          "output_type": "stream",
          "text": [
            "average probability of fakeness: 0.009255476959515363\n",
            "Percentage of fakeness: 0.9255\n",
            "average probability of realness: 0.9907445073127746\n",
            "Percentage of realness: 99.0745\n",
            "REAL\n",
            "1\n",
            "\n",
            "Correct Prediction!!\n",
            "1\n",
            "\n",
            "Total Correct: 107\n",
            "Total Incorrect: 5\n",
            "Total: 112\n",
            "-----------------------------\n",
            "\n"
          ],
          "name": "stdout"
        },
        {
          "output_type": "stream",
          "text": [
            "100%|██████████| 300/300 [00:03<00:00, 89.26it/s]\n",
            "  2%|▏         | 7/300 [00:00<00:04, 61.77it/s]"
          ],
          "name": "stderr"
        },
        {
          "output_type": "stream",
          "text": [
            "average probability of fakeness: 0.5663184673148429\n",
            "Percentage of fakeness: 56.6318\n",
            "average probability of realness: 0.4336815355234735\n",
            "Percentage of realness: 43.3682\n",
            "REAL\n",
            "1\n",
            "\n",
            "Incorrect.\n",
            "0\n",
            "\n",
            "Total Correct: 107\n",
            "Total Incorrect: 6\n",
            "Total: 113\n",
            "-----------------------------\n",
            "\n"
          ],
          "name": "stdout"
        },
        {
          "output_type": "stream",
          "text": [
            "100%|██████████| 300/300 [00:03<00:00, 91.86it/s]\n",
            "  3%|▎         | 10/300 [00:00<00:03, 90.89it/s]"
          ],
          "name": "stderr"
        },
        {
          "output_type": "stream",
          "text": [
            "average probability of fakeness: 0.02931690717438566\n",
            "Percentage of fakeness: 2.9317\n",
            "average probability of realness: 0.9706830978393555\n",
            "Percentage of realness: 97.0683\n",
            "REAL\n",
            "1\n",
            "\n",
            "Correct Prediction!!\n",
            "1\n",
            "\n",
            "Total Correct: 108\n",
            "Total Incorrect: 6\n",
            "Total: 114\n",
            "-----------------------------\n",
            "\n"
          ],
          "name": "stdout"
        },
        {
          "output_type": "stream",
          "text": [
            "100%|██████████| 300/300 [00:02<00:00, 145.70it/s]\n",
            "  2%|▏         | 5/300 [00:00<00:05, 49.81it/s]"
          ],
          "name": "stderr"
        },
        {
          "output_type": "stream",
          "text": [
            "average probability of fakeness: 0.2890795366217693\n",
            "Percentage of fakeness: 28.9080\n",
            "average probability of realness: 0.7109204781552155\n",
            "Percentage of realness: 71.0920\n",
            "REAL\n",
            "1\n",
            "\n",
            "Correct Prediction!!\n",
            "1\n",
            "\n",
            "Total Correct: 109\n",
            "Total Incorrect: 6\n",
            "Total: 115\n",
            "-----------------------------\n",
            "\n"
          ],
          "name": "stdout"
        },
        {
          "output_type": "stream",
          "text": [
            "100%|██████████| 300/300 [00:03<00:00, 89.53it/s]\n",
            "  2%|▏         | 5/300 [00:00<00:06, 46.77it/s]"
          ],
          "name": "stderr"
        },
        {
          "output_type": "stream",
          "text": [
            "average probability of fakeness: 0.9992511326616461\n",
            "Percentage of fakeness: 99.9251\n",
            "average probability of realness: 0.0007488374018397404\n",
            "Percentage of realness: 0.0749\n",
            "FAKE\n",
            "0\n",
            "\n",
            "Correct Prediction!!\n",
            "0\n",
            "\n",
            "Total Correct: 110\n",
            "Total Incorrect: 6\n",
            "Total: 116\n",
            "-----------------------------\n",
            "\n"
          ],
          "name": "stdout"
        },
        {
          "output_type": "stream",
          "text": [
            "100%|██████████| 300/300 [00:03<00:00, 90.90it/s]\n",
            "  4%|▎         | 11/300 [00:00<00:02, 96.39it/s]"
          ],
          "name": "stderr"
        },
        {
          "output_type": "stream",
          "text": [
            "average probability of fakeness: 0.09637668828707485\n",
            "Percentage of fakeness: 9.6377\n",
            "average probability of realness: 0.9036233194849708\n",
            "Percentage of realness: 90.3623\n",
            "REAL\n",
            "1\n",
            "\n",
            "Correct Prediction!!\n",
            "1\n",
            "\n",
            "Total Correct: 111\n",
            "Total Incorrect: 6\n",
            "Total: 117\n",
            "-----------------------------\n",
            "\n"
          ],
          "name": "stdout"
        },
        {
          "output_type": "stream",
          "text": [
            "100%|██████████| 300/300 [00:02<00:00, 148.00it/s]\n",
            "  2%|▏         | 7/300 [00:00<00:04, 59.81it/s]"
          ],
          "name": "stderr"
        },
        {
          "output_type": "stream",
          "text": [
            "average probability of fakeness: 0.17435794428456575\n",
            "Percentage of fakeness: 17.4358\n",
            "average probability of realness: 0.8256420474499464\n",
            "Percentage of realness: 82.5642\n",
            "REAL\n",
            "1\n",
            "\n",
            "Correct Prediction!!\n",
            "1\n",
            "\n",
            "Total Correct: 112\n",
            "Total Incorrect: 6\n",
            "Total: 118\n",
            "-----------------------------\n",
            "\n"
          ],
          "name": "stdout"
        },
        {
          "output_type": "stream",
          "text": [
            "100%|██████████| 300/300 [00:03<00:00, 94.89it/s]\n",
            "  2%|▏         | 7/300 [00:00<00:04, 60.86it/s]"
          ],
          "name": "stderr"
        },
        {
          "output_type": "stream",
          "text": [
            "average probability of fakeness: 0.974496317761285\n",
            "Percentage of fakeness: 97.4496\n",
            "average probability of realness: 0.025503690989832455\n",
            "Percentage of realness: 2.5504\n",
            "FAKE\n",
            "0\n",
            "\n",
            "Correct Prediction!!\n",
            "0\n",
            "\n",
            "Total Correct: 113\n",
            "Total Incorrect: 6\n",
            "Total: 119\n",
            "-----------------------------\n",
            "\n"
          ],
          "name": "stdout"
        },
        {
          "output_type": "stream",
          "text": [
            "100%|██████████| 300/300 [00:03<00:00, 90.19it/s]\n",
            "  2%|▏         | 5/300 [00:00<00:05, 49.52it/s]"
          ],
          "name": "stderr"
        },
        {
          "output_type": "stream",
          "text": [
            "average probability of fakeness: 0.9620836485515941\n",
            "Percentage of fakeness: 96.2084\n",
            "average probability of realness: 0.03791635051633917\n",
            "Percentage of realness: 3.7916\n",
            "FAKE\n",
            "0\n",
            "\n",
            "Correct Prediction!!\n",
            "0\n",
            "\n",
            "Total Correct: 114\n",
            "Total Incorrect: 6\n",
            "Total: 120\n",
            "-----------------------------\n",
            "\n"
          ],
          "name": "stdout"
        },
        {
          "output_type": "stream",
          "text": [
            "100%|██████████| 300/300 [00:03<00:00, 90.68it/s]\n",
            "  3%|▎         | 10/300 [00:00<00:03, 93.63it/s]"
          ],
          "name": "stderr"
        },
        {
          "output_type": "stream",
          "text": [
            "average probability of fakeness: 0.22464858682845565\n",
            "Percentage of fakeness: 22.4649\n",
            "average probability of realness: 0.7753514150390401\n",
            "Percentage of realness: 77.5351\n",
            "REAL\n",
            "1\n",
            "\n",
            "Correct Prediction!!\n",
            "1\n",
            "\n",
            "Total Correct: 115\n",
            "Total Incorrect: 6\n",
            "Total: 121\n",
            "-----------------------------\n",
            "\n"
          ],
          "name": "stdout"
        },
        {
          "output_type": "stream",
          "text": [
            "100%|██████████| 300/300 [00:02<00:00, 130.27it/s]\n",
            "  2%|▏         | 7/300 [00:00<00:04, 59.30it/s]"
          ],
          "name": "stderr"
        },
        {
          "output_type": "stream",
          "text": [
            "average probability of fakeness: 0.16284357243038508\n",
            "Percentage of fakeness: 16.2844\n",
            "average probability of realness: 0.8371564323703448\n",
            "Percentage of realness: 83.7156\n",
            "REAL\n",
            "1\n",
            "\n",
            "Correct Prediction!!\n",
            "1\n",
            "\n",
            "Total Correct: 116\n",
            "Total Incorrect: 6\n",
            "Total: 122\n",
            "-----------------------------\n",
            "\n"
          ],
          "name": "stdout"
        },
        {
          "output_type": "stream",
          "text": [
            "100%|██████████| 300/300 [00:03<00:00, 94.01it/s]\n",
            "  3%|▎         | 10/300 [00:00<00:03, 95.12it/s]"
          ],
          "name": "stderr"
        },
        {
          "output_type": "stream",
          "text": [
            "average probability of fakeness: 0.98790533012814\n",
            "Percentage of fakeness: 98.7905\n",
            "average probability of realness: 0.012094678415451199\n",
            "Percentage of realness: 1.2095\n",
            "FAKE\n",
            "0\n",
            "\n",
            "Correct Prediction!!\n",
            "0\n",
            "\n",
            "Total Correct: 117\n",
            "Total Incorrect: 6\n",
            "Total: 123\n",
            "-----------------------------\n",
            "\n"
          ],
          "name": "stdout"
        },
        {
          "output_type": "stream",
          "text": [
            "100%|██████████| 300/300 [00:02<00:00, 140.10it/s]\n",
            "  3%|▎         | 8/300 [00:00<00:03, 77.99it/s]"
          ],
          "name": "stderr"
        },
        {
          "output_type": "stream",
          "text": [
            "average probability of fakeness: 0.9975381876741137\n",
            "Percentage of fakeness: 99.7538\n",
            "average probability of realness: 0.0024618157134292623\n",
            "Percentage of realness: 0.2462\n",
            "FAKE\n",
            "0\n",
            "\n",
            "Correct Prediction!!\n",
            "0\n",
            "\n",
            "Total Correct: 118\n",
            "Total Incorrect: 6\n",
            "Total: 124\n",
            "-----------------------------\n",
            "\n"
          ],
          "name": "stdout"
        },
        {
          "output_type": "stream",
          "text": [
            "100%|██████████| 300/300 [00:02<00:00, 104.64it/s]\n",
            "  2%|▏         | 7/300 [00:00<00:04, 59.71it/s]"
          ],
          "name": "stderr"
        },
        {
          "output_type": "stream",
          "text": [
            "average probability of fakeness: 0.0038649215624900536\n",
            "Percentage of fakeness: 0.3865\n",
            "average probability of realness: 0.9961350440979004\n",
            "Percentage of realness: 99.6135\n",
            "REAL\n",
            "1\n",
            "\n",
            "Correct Prediction!!\n",
            "1\n",
            "\n",
            "Total Correct: 119\n",
            "Total Incorrect: 6\n",
            "Total: 125\n",
            "-----------------------------\n",
            "\n"
          ],
          "name": "stdout"
        },
        {
          "output_type": "stream",
          "text": [
            "100%|██████████| 300/300 [00:03<00:00, 93.99it/s]\n",
            "  2%|▏         | 6/300 [00:00<00:04, 59.85it/s]"
          ],
          "name": "stderr"
        },
        {
          "output_type": "stream",
          "text": [
            "average probability of fakeness: 0.48395101105173427\n",
            "Percentage of fakeness: 48.3951\n",
            "average probability of realness: 0.5160489852229754\n",
            "Percentage of realness: 51.6049\n",
            "REAL\n",
            "1\n",
            "\n",
            "Correct Prediction!!\n",
            "1\n",
            "\n",
            "Total Correct: 120\n",
            "Total Incorrect: 6\n",
            "Total: 126\n",
            "-----------------------------\n",
            "\n"
          ],
          "name": "stdout"
        },
        {
          "output_type": "stream",
          "text": [
            "100%|██████████| 300/300 [00:03<00:00, 92.62it/s]\n",
            "  2%|▏         | 5/300 [00:00<00:06, 48.23it/s]"
          ],
          "name": "stderr"
        },
        {
          "output_type": "stream",
          "text": [
            "average probability of fakeness: 0.3939112226944417\n",
            "Percentage of fakeness: 39.3911\n",
            "average probability of realness: 0.6060887478291989\n",
            "Percentage of realness: 60.6089\n",
            "REAL\n",
            "1\n",
            "\n",
            "Correct Prediction!!\n",
            "1\n",
            "\n",
            "Total Correct: 121\n",
            "Total Incorrect: 6\n",
            "Total: 127\n",
            "-----------------------------\n",
            "\n"
          ],
          "name": "stdout"
        },
        {
          "output_type": "stream",
          "text": [
            "100%|██████████| 300/300 [00:02<00:00, 117.96it/s]\n",
            "  2%|▏         | 7/300 [00:00<00:04, 60.92it/s]"
          ],
          "name": "stderr"
        },
        {
          "output_type": "stream",
          "text": [
            "average probability of fakeness: 0.9961667060852051\n",
            "Percentage of fakeness: 99.6167\n",
            "average probability of realness: 0.0038332727461238393\n",
            "Percentage of realness: 0.3833\n",
            "FAKE\n",
            "0\n",
            "\n",
            "Correct Prediction!!\n",
            "0\n",
            "\n",
            "Total Correct: 122\n",
            "Total Incorrect: 6\n",
            "Total: 128\n",
            "-----------------------------\n",
            "\n"
          ],
          "name": "stdout"
        },
        {
          "output_type": "stream",
          "text": [
            "100%|██████████| 300/300 [00:03<00:00, 88.95it/s]\n",
            "  2%|▏         | 5/300 [00:00<00:06, 42.92it/s]"
          ],
          "name": "stderr"
        },
        {
          "output_type": "stream",
          "text": [
            "average probability of fakeness: 0.10383833589201624\n",
            "Percentage of fakeness: 10.3838\n",
            "average probability of realness: 0.896161678162488\n",
            "Percentage of realness: 89.6162\n",
            "REAL\n",
            "1\n",
            "\n",
            "Correct Prediction!!\n",
            "1\n",
            "\n",
            "Total Correct: 123\n",
            "Total Incorrect: 6\n",
            "Total: 129\n",
            "-----------------------------\n",
            "\n"
          ],
          "name": "stdout"
        },
        {
          "output_type": "stream",
          "text": [
            "100%|██████████| 300/300 [00:03<00:00, 89.56it/s]\n",
            "  3%|▎         | 9/300 [00:00<00:03, 88.09it/s]"
          ],
          "name": "stderr"
        },
        {
          "output_type": "stream",
          "text": [
            "average probability of fakeness: 0.9874602307875952\n",
            "Percentage of fakeness: 98.7460\n",
            "average probability of realness: 0.012539771563313687\n",
            "Percentage of realness: 1.2540\n",
            "FAKE\n",
            "0\n",
            "\n",
            "Correct Prediction!!\n",
            "0\n",
            "\n",
            "Total Correct: 124\n",
            "Total Incorrect: 6\n",
            "Total: 130\n",
            "-----------------------------\n",
            "\n"
          ],
          "name": "stdout"
        },
        {
          "output_type": "stream",
          "text": [
            "100%|██████████| 300/300 [00:02<00:00, 136.08it/s]\n",
            "  3%|▎         | 9/300 [00:00<00:03, 80.73it/s]"
          ],
          "name": "stderr"
        },
        {
          "output_type": "stream",
          "text": [
            "average probability of fakeness: 0.9961842731996016\n",
            "Percentage of fakeness: 99.6184\n",
            "average probability of realness: 0.003815710291581292\n",
            "Percentage of realness: 0.3816\n",
            "FAKE\n",
            "0\n",
            "\n",
            "Correct Prediction!!\n",
            "0\n",
            "\n",
            "Total Correct: 125\n",
            "Total Incorrect: 6\n",
            "Total: 131\n",
            "-----------------------------\n",
            "\n"
          ],
          "name": "stdout"
        },
        {
          "output_type": "stream",
          "text": [
            "100%|██████████| 300/300 [00:02<00:00, 117.92it/s]\n",
            "  2%|▏         | 6/300 [00:00<00:04, 59.69it/s]"
          ],
          "name": "stderr"
        },
        {
          "output_type": "stream",
          "text": [
            "average probability of fakeness: 0.9703367352485657\n",
            "Percentage of fakeness: 97.0337\n",
            "average probability of realness: 0.029663264760893072\n",
            "Percentage of realness: 2.9663\n",
            "FAKE\n",
            "0\n",
            "\n",
            "Correct Prediction!!\n",
            "0\n",
            "\n",
            "Total Correct: 126\n",
            "Total Incorrect: 6\n",
            "Total: 132\n",
            "-----------------------------\n",
            "\n"
          ],
          "name": "stdout"
        },
        {
          "output_type": "stream",
          "text": [
            "100%|██████████| 300/300 [00:03<00:00, 91.00it/s]\n",
            "  2%|▏         | 7/300 [00:00<00:04, 62.61it/s]"
          ],
          "name": "stderr"
        },
        {
          "output_type": "stream",
          "text": [
            "average probability of fakeness: 0.1330449662107805\n",
            "Percentage of fakeness: 13.3045\n",
            "average probability of realness: 0.8669550310481678\n",
            "Percentage of realness: 86.6955\n",
            "REAL\n",
            "1\n",
            "\n",
            "Correct Prediction!!\n",
            "1\n",
            "\n",
            "Total Correct: 127\n",
            "Total Incorrect: 6\n",
            "Total: 133\n",
            "-----------------------------\n",
            "\n"
          ],
          "name": "stdout"
        },
        {
          "output_type": "stream",
          "text": [
            "100%|██████████| 300/300 [00:03<00:00, 93.30it/s]\n",
            "  2%|▏         | 7/300 [00:00<00:04, 66.00it/s]"
          ],
          "name": "stderr"
        },
        {
          "output_type": "stream",
          "text": [
            "average probability of fakeness: 0.995176765051755\n",
            "Percentage of fakeness: 99.5177\n",
            "average probability of realness: 0.0048232171762224016\n",
            "Percentage of realness: 0.4823\n",
            "FAKE\n",
            "0\n",
            "\n",
            "Correct Prediction!!\n",
            "0\n",
            "\n",
            "Total Correct: 128\n",
            "Total Incorrect: 6\n",
            "Total: 134\n",
            "-----------------------------\n",
            "\n"
          ],
          "name": "stdout"
        },
        {
          "output_type": "stream",
          "text": [
            "100%|██████████| 300/300 [00:02<00:00, 110.98it/s]\n",
            "  2%|▏         | 7/300 [00:00<00:04, 69.60it/s]"
          ],
          "name": "stderr"
        },
        {
          "output_type": "stream",
          "text": [
            "average probability of fakeness: 0.22997278010942473\n",
            "Percentage of fakeness: 22.9973\n",
            "average probability of realness: 0.7700271984296185\n",
            "Percentage of realness: 77.0027\n",
            "REAL\n",
            "1\n",
            "\n",
            "Correct Prediction!!\n",
            "1\n",
            "\n",
            "Total Correct: 129\n",
            "Total Incorrect: 6\n",
            "Total: 135\n",
            "-----------------------------\n",
            "\n"
          ],
          "name": "stdout"
        },
        {
          "output_type": "stream",
          "text": [
            "100%|██████████| 300/300 [00:02<00:00, 105.91it/s]\n",
            "  2%|▏         | 7/300 [00:00<00:04, 59.36it/s]"
          ],
          "name": "stderr"
        },
        {
          "output_type": "stream",
          "text": [
            "average probability of fakeness: 0.9977777540683747\n",
            "Percentage of fakeness: 99.7778\n",
            "average probability of realness: 0.0022222452453206643\n",
            "Percentage of realness: 0.2222\n",
            "FAKE\n",
            "0\n",
            "\n",
            "Correct Prediction!!\n",
            "0\n",
            "\n",
            "Total Correct: 130\n",
            "Total Incorrect: 6\n",
            "Total: 136\n",
            "-----------------------------\n",
            "\n"
          ],
          "name": "stdout"
        },
        {
          "output_type": "stream",
          "text": [
            "100%|██████████| 300/300 [00:03<00:00, 92.93it/s]\n",
            "  3%|▎         | 8/300 [00:00<00:03, 77.94it/s]"
          ],
          "name": "stderr"
        },
        {
          "output_type": "stream",
          "text": [
            "average probability of fakeness: 0.9606103052695593\n",
            "Percentage of fakeness: 96.0610\n",
            "average probability of realness: 0.03938970386176758\n",
            "Percentage of realness: 3.9390\n",
            "FAKE\n",
            "0\n",
            "\n",
            "Correct Prediction!!\n",
            "0\n",
            "\n",
            "Total Correct: 131\n",
            "Total Incorrect: 6\n",
            "Total: 137\n",
            "-----------------------------\n",
            "\n"
          ],
          "name": "stdout"
        },
        {
          "output_type": "stream",
          "text": [
            "100%|██████████| 300/300 [00:02<00:00, 117.24it/s]\n",
            "  2%|▏         | 7/300 [00:00<00:04, 69.43it/s]"
          ],
          "name": "stderr"
        },
        {
          "output_type": "stream",
          "text": [
            "average probability of fakeness: 0.38002580031752586\n",
            "Percentage of fakeness: 38.0026\n",
            "average probability of realness: 0.6199742078781127\n",
            "Percentage of realness: 61.9974\n",
            "REAL\n",
            "1\n",
            "\n",
            "Correct Prediction!!\n",
            "1\n",
            "\n",
            "Total Correct: 132\n",
            "Total Incorrect: 6\n",
            "Total: 138\n",
            "-----------------------------\n",
            "\n"
          ],
          "name": "stdout"
        },
        {
          "output_type": "stream",
          "text": [
            "100%|██████████| 300/300 [00:02<00:00, 106.46it/s]\n",
            "  3%|▎         | 9/300 [00:00<00:03, 85.02it/s]"
          ],
          "name": "stderr"
        },
        {
          "output_type": "stream",
          "text": [
            "average probability of fakeness: 0.9886323610941569\n",
            "Percentage of fakeness: 98.8632\n",
            "average probability of realness: 0.011367643627939591\n",
            "Percentage of realness: 1.1368\n",
            "FAKE\n",
            "0\n",
            "\n",
            "Correct Prediction!!\n",
            "0\n",
            "\n",
            "Total Correct: 133\n",
            "Total Incorrect: 6\n",
            "Total: 139\n",
            "-----------------------------\n",
            "\n"
          ],
          "name": "stdout"
        },
        {
          "output_type": "stream",
          "text": [
            "100%|██████████| 300/300 [00:02<00:00, 147.65it/s]\n",
            "  2%|▏         | 7/300 [00:00<00:04, 63.77it/s]"
          ],
          "name": "stderr"
        },
        {
          "output_type": "stream",
          "text": [
            "average probability of fakeness: 0.9887284375727177\n",
            "Percentage of fakeness: 98.8728\n",
            "average probability of realness: 0.011271563296475051\n",
            "Percentage of realness: 1.1272\n",
            "FAKE\n",
            "0\n",
            "\n",
            "Correct Prediction!!\n",
            "0\n",
            "\n",
            "Total Correct: 134\n",
            "Total Incorrect: 6\n",
            "Total: 140\n",
            "-----------------------------\n",
            "\n"
          ],
          "name": "stdout"
        },
        {
          "output_type": "stream",
          "text": [
            "100%|██████████| 300/300 [00:02<00:00, 118.12it/s]\n",
            "  2%|▏         | 5/300 [00:00<00:06, 49.16it/s]"
          ],
          "name": "stderr"
        },
        {
          "output_type": "stream",
          "text": [
            "average probability of fakeness: 0.9766405274470648\n",
            "Percentage of fakeness: 97.6641\n",
            "average probability of realness: 0.023359459296746838\n",
            "Percentage of realness: 2.3359\n",
            "FAKE\n",
            "0\n",
            "\n",
            "Correct Prediction!!\n",
            "0\n",
            "\n",
            "Total Correct: 135\n",
            "Total Incorrect: 6\n",
            "Total: 141\n",
            "-----------------------------\n",
            "\n"
          ],
          "name": "stdout"
        },
        {
          "output_type": "stream",
          "text": [
            "100%|██████████| 300/300 [00:02<00:00, 116.38it/s]\n",
            "  3%|▎         | 8/300 [00:00<00:03, 78.24it/s]"
          ],
          "name": "stderr"
        },
        {
          "output_type": "stream",
          "text": [
            "average probability of fakeness: 0.12388360858728577\n",
            "Percentage of fakeness: 12.3884\n",
            "average probability of realness: 0.8761163949966431\n",
            "Percentage of realness: 87.6116\n",
            "REAL\n",
            "1\n",
            "\n",
            "Correct Prediction!!\n",
            "1\n",
            "\n",
            "Total Correct: 136\n",
            "Total Incorrect: 6\n",
            "Total: 142\n",
            "-----------------------------\n",
            "\n"
          ],
          "name": "stdout"
        },
        {
          "output_type": "stream",
          "text": [
            "100%|██████████| 300/300 [00:02<00:00, 138.31it/s]\n",
            "  2%|▏         | 7/300 [00:00<00:04, 59.31it/s]"
          ],
          "name": "stderr"
        },
        {
          "output_type": "stream",
          "text": [
            "average probability of fakeness: 0.017629728351246078\n",
            "Percentage of fakeness: 1.7630\n",
            "average probability of realness: 0.9823702736334368\n",
            "Percentage of realness: 98.2370\n",
            "REAL\n",
            "1\n",
            "\n",
            "Correct Prediction!!\n",
            "1\n",
            "\n",
            "Total Correct: 137\n",
            "Total Incorrect: 6\n",
            "Total: 143\n",
            "-----------------------------\n",
            "\n"
          ],
          "name": "stdout"
        },
        {
          "output_type": "stream",
          "text": [
            "100%|██████████| 300/300 [00:03<00:00, 89.12it/s]\n",
            "  2%|▏         | 7/300 [00:00<00:04, 63.13it/s]"
          ],
          "name": "stderr"
        },
        {
          "output_type": "stream",
          "text": [
            "average probability of fakeness: 0.27352889939045\n",
            "Percentage of fakeness: 27.3529\n",
            "average probability of realness: 0.7264711074531078\n",
            "Percentage of realness: 72.6471\n",
            "REAL\n",
            "1\n",
            "\n",
            "Correct Prediction!!\n",
            "1\n",
            "\n",
            "Total Correct: 138\n",
            "Total Incorrect: 6\n",
            "Total: 144\n",
            "-----------------------------\n",
            "\n"
          ],
          "name": "stdout"
        },
        {
          "output_type": "stream",
          "text": [
            "100%|██████████| 300/300 [00:02<00:00, 110.08it/s]\n",
            "  2%|▏         | 5/300 [00:00<00:06, 49.01it/s]"
          ],
          "name": "stderr"
        },
        {
          "output_type": "stream",
          "text": [
            "average probability of fakeness: 0.0162140361382626\n",
            "Percentage of fakeness: 1.6214\n",
            "average probability of realness: 0.9837859451770783\n",
            "Percentage of realness: 98.3786\n",
            "REAL\n",
            "1\n",
            "\n",
            "Correct Prediction!!\n",
            "1\n",
            "\n",
            "Total Correct: 139\n",
            "Total Incorrect: 6\n",
            "Total: 145\n",
            "-----------------------------\n",
            "\n"
          ],
          "name": "stdout"
        },
        {
          "output_type": "stream",
          "text": [
            "100%|██████████| 300/300 [00:03<00:00, 94.45it/s]\n",
            "  2%|▏         | 7/300 [00:00<00:04, 66.68it/s]"
          ],
          "name": "stderr"
        },
        {
          "output_type": "stream",
          "text": [
            "average probability of fakeness: 0.9959034323692322\n",
            "Percentage of fakeness: 99.5903\n",
            "average probability of realness: 0.004096570968310213\n",
            "Percentage of realness: 0.4097\n",
            "FAKE\n",
            "0\n",
            "\n",
            "Correct Prediction!!\n",
            "0\n",
            "\n",
            "Total Correct: 140\n",
            "Total Incorrect: 6\n",
            "Total: 146\n",
            "-----------------------------\n",
            "\n"
          ],
          "name": "stdout"
        },
        {
          "output_type": "stream",
          "text": [
            "100%|██████████| 300/300 [00:02<00:00, 111.13it/s]\n",
            "  2%|▏         | 6/300 [00:00<00:05, 56.77it/s]"
          ],
          "name": "stderr"
        },
        {
          "output_type": "stream",
          "text": [
            "average probability of fakeness: 0.9580093502998352\n",
            "Percentage of fakeness: 95.8009\n",
            "average probability of realness: 0.04199066236105864\n",
            "Percentage of realness: 4.1991\n",
            "FAKE\n",
            "0\n",
            "\n",
            "Correct Prediction!!\n",
            "0\n",
            "\n",
            "Total Correct: 141\n",
            "Total Incorrect: 6\n",
            "Total: 147\n",
            "-----------------------------\n",
            "\n"
          ],
          "name": "stdout"
        },
        {
          "output_type": "stream",
          "text": [
            "100%|██████████| 300/300 [00:03<00:00, 93.62it/s]\n",
            "  3%|▎         | 9/300 [00:00<00:03, 86.45it/s]"
          ],
          "name": "stderr"
        },
        {
          "output_type": "stream",
          "text": [
            "average probability of fakeness: 0.38319146453868597\n",
            "Percentage of fakeness: 38.3191\n",
            "average probability of realness: 0.6168085413053632\n",
            "Percentage of realness: 61.6809\n",
            "REAL\n",
            "1\n",
            "\n",
            "Correct Prediction!!\n",
            "1\n",
            "\n",
            "Total Correct: 142\n",
            "Total Incorrect: 6\n",
            "Total: 148\n",
            "-----------------------------\n",
            "\n"
          ],
          "name": "stdout"
        },
        {
          "output_type": "stream",
          "text": [
            "100%|██████████| 300/300 [00:02<00:00, 115.72it/s]\n",
            "  3%|▎         | 8/300 [00:00<00:03, 79.99it/s]"
          ],
          "name": "stderr"
        },
        {
          "output_type": "stream",
          "text": [
            "average probability of fakeness: 0.015949972218368202\n",
            "Percentage of fakeness: 1.5950\n",
            "average probability of realness: 0.9840500056743622\n",
            "Percentage of realness: 98.4050\n",
            "REAL\n",
            "1\n",
            "\n",
            "Correct Prediction!!\n",
            "1\n",
            "\n",
            "Total Correct: 143\n",
            "Total Incorrect: 6\n",
            "Total: 149\n",
            "-----------------------------\n",
            "\n"
          ],
          "name": "stdout"
        },
        {
          "output_type": "stream",
          "text": [
            "100%|██████████| 300/300 [00:02<00:00, 129.94it/s]\n",
            "  4%|▎         | 11/300 [00:00<00:02, 98.10it/s]"
          ],
          "name": "stderr"
        },
        {
          "output_type": "stream",
          "text": [
            "average probability of fakeness: 0.9542725086212158\n",
            "Percentage of fakeness: 95.4273\n",
            "average probability of realness: 0.04572750283932692\n",
            "Percentage of realness: 4.5728\n",
            "FAKE\n",
            "0\n",
            "\n",
            "Correct Prediction!!\n",
            "0\n",
            "\n",
            "Total Correct: 144\n",
            "Total Incorrect: 6\n",
            "Total: 150\n",
            "-----------------------------\n",
            "\n"
          ],
          "name": "stdout"
        },
        {
          "output_type": "stream",
          "text": [
            "100%|██████████| 300/300 [00:02<00:00, 136.52it/s]\n",
            "  3%|▎         | 9/300 [00:00<00:03, 82.24it/s]"
          ],
          "name": "stderr"
        },
        {
          "output_type": "stream",
          "text": [
            "average probability of fakeness: 0.1622407899180871\n",
            "Percentage of fakeness: 16.2241\n",
            "average probability of realness: 0.8377592094087353\n",
            "Percentage of realness: 83.7759\n",
            "REAL\n",
            "1\n",
            "\n",
            "Correct Prediction!!\n",
            "1\n",
            "\n",
            "Total Correct: 145\n",
            "Total Incorrect: 6\n",
            "Total: 151\n",
            "-----------------------------\n",
            "\n"
          ],
          "name": "stdout"
        },
        {
          "output_type": "stream",
          "text": [
            "100%|██████████| 300/300 [00:02<00:00, 126.03it/s]\n",
            "  3%|▎         | 8/300 [00:00<00:03, 79.97it/s]"
          ],
          "name": "stderr"
        },
        {
          "output_type": "stream",
          "text": [
            "average probability of fakeness: 0.1717051161124508\n",
            "Percentage of fakeness: 17.1705\n",
            "average probability of realness: 0.828294884945665\n",
            "Percentage of realness: 82.8295\n",
            "REAL\n",
            "1\n",
            "\n",
            "Correct Prediction!!\n",
            "1\n",
            "\n",
            "Total Correct: 146\n",
            "Total Incorrect: 6\n",
            "Total: 152\n",
            "-----------------------------\n",
            "\n"
          ],
          "name": "stdout"
        },
        {
          "output_type": "stream",
          "text": [
            "100%|██████████| 300/300 [00:02<00:00, 112.90it/s]\n",
            "  3%|▎         | 8/300 [00:00<00:03, 78.49it/s]"
          ],
          "name": "stderr"
        },
        {
          "output_type": "stream",
          "text": [
            "average probability of fakeness: 0.9509267389774323\n",
            "Percentage of fakeness: 95.0927\n",
            "average probability of realness: 0.04907327204236935\n",
            "Percentage of realness: 4.9073\n",
            "FAKE\n",
            "0\n",
            "\n",
            "Correct Prediction!!\n",
            "0\n",
            "\n",
            "Total Correct: 147\n",
            "Total Incorrect: 6\n",
            "Total: 153\n",
            "-----------------------------\n",
            "\n"
          ],
          "name": "stdout"
        },
        {
          "output_type": "stream",
          "text": [
            "100%|██████████| 300/300 [00:02<00:00, 113.90it/s]\n",
            "  3%|▎         | 9/300 [00:00<00:03, 80.82it/s]"
          ],
          "name": "stderr"
        },
        {
          "output_type": "stream",
          "text": [
            "average probability of fakeness: 0.9934100091457367\n",
            "Percentage of fakeness: 99.3410\n",
            "average probability of realness: 0.006590014632092789\n",
            "Percentage of realness: 0.6590\n",
            "FAKE\n",
            "0\n",
            "\n",
            "Correct Prediction!!\n",
            "0\n",
            "\n",
            "Total Correct: 148\n",
            "Total Incorrect: 6\n",
            "Total: 154\n",
            "-----------------------------\n",
            "\n"
          ],
          "name": "stdout"
        },
        {
          "output_type": "stream",
          "text": [
            "100%|██████████| 300/300 [00:02<00:00, 125.19it/s]\n",
            "  4%|▎         | 11/300 [00:00<00:02, 101.07it/s]"
          ],
          "name": "stderr"
        },
        {
          "output_type": "stream",
          "text": [
            "average probability of fakeness: 0.9892241900617426\n",
            "Percentage of fakeness: 98.9224\n",
            "average probability of realness: 0.01077581242134329\n",
            "Percentage of realness: 1.0776\n",
            "FAKE\n",
            "0\n",
            "\n",
            "Correct Prediction!!\n",
            "0\n",
            "\n",
            "Total Correct: 149\n",
            "Total Incorrect: 6\n",
            "Total: 155\n",
            "-----------------------------\n",
            "\n"
          ],
          "name": "stdout"
        },
        {
          "output_type": "stream",
          "text": [
            "100%|██████████| 300/300 [00:02<00:00, 144.98it/s]\n",
            "  3%|▎         | 8/300 [00:00<00:03, 76.64it/s]"
          ],
          "name": "stderr"
        },
        {
          "output_type": "stream",
          "text": [
            "average probability of fakeness: 0.09193775813188647\n",
            "Percentage of fakeness: 9.1938\n",
            "average probability of realness: 0.9080622345209122\n",
            "Percentage of realness: 90.8062\n",
            "REAL\n",
            "1\n",
            "\n",
            "Correct Prediction!!\n",
            "1\n",
            "\n",
            "Total Correct: 150\n",
            "Total Incorrect: 6\n",
            "Total: 156\n",
            "-----------------------------\n",
            "\n"
          ],
          "name": "stdout"
        },
        {
          "output_type": "stream",
          "text": [
            "100%|██████████| 300/300 [00:02<00:00, 111.03it/s]\n",
            "  3%|▎         | 10/300 [00:00<00:03, 93.15it/s]"
          ],
          "name": "stderr"
        },
        {
          "output_type": "stream",
          "text": [
            "average probability of fakeness: 0.027998328732792288\n",
            "Percentage of fakeness: 2.7998\n",
            "average probability of realness: 0.9720016717910767\n",
            "Percentage of realness: 97.2002\n",
            "REAL\n",
            "1\n",
            "\n",
            "Correct Prediction!!\n",
            "1\n",
            "\n",
            "Total Correct: 151\n",
            "Total Incorrect: 6\n",
            "Total: 157\n",
            "-----------------------------\n",
            "\n"
          ],
          "name": "stdout"
        },
        {
          "output_type": "stream",
          "text": [
            "100%|██████████| 300/300 [00:02<00:00, 141.33it/s]\n",
            "  3%|▎         | 8/300 [00:00<00:03, 75.66it/s]"
          ],
          "name": "stderr"
        },
        {
          "output_type": "stream",
          "text": [
            "average probability of fakeness: 0.9929157420992851\n",
            "Percentage of fakeness: 99.2916\n",
            "average probability of realness: 0.007084257145947959\n",
            "Percentage of realness: 0.7084\n",
            "FAKE\n",
            "0\n",
            "\n",
            "Correct Prediction!!\n",
            "0\n",
            "\n",
            "Total Correct: 152\n",
            "Total Incorrect: 6\n",
            "Total: 158\n",
            "-----------------------------\n",
            "\n"
          ],
          "name": "stdout"
        },
        {
          "output_type": "stream",
          "text": [
            "100%|██████████| 300/300 [00:02<00:00, 107.66it/s]\n",
            "  4%|▎         | 11/300 [00:00<00:02, 107.85it/s]"
          ],
          "name": "stderr"
        },
        {
          "output_type": "stream",
          "text": [
            "average probability of fakeness: 0.014251072698971256\n",
            "Percentage of fakeness: 1.4251\n",
            "average probability of realness: 0.985748928785324\n",
            "Percentage of realness: 98.5749\n",
            "REAL\n",
            "1\n",
            "\n",
            "Correct Prediction!!\n",
            "1\n",
            "\n",
            "Total Correct: 153\n",
            "Total Incorrect: 6\n",
            "Total: 159\n",
            "-----------------------------\n",
            "\n"
          ],
          "name": "stdout"
        },
        {
          "output_type": "stream",
          "text": [
            "100%|██████████| 300/300 [00:02<00:00, 143.86it/s]\n",
            "  2%|▏         | 7/300 [00:00<00:04, 59.29it/s]"
          ],
          "name": "stderr"
        },
        {
          "output_type": "stream",
          "text": [
            "average probability of fakeness: 0.9935285611586138\n",
            "Percentage of fakeness: 99.3529\n",
            "average probability of realness: 0.006471419876272028\n",
            "Percentage of realness: 0.6471\n",
            "FAKE\n",
            "0\n",
            "\n",
            "Correct Prediction!!\n",
            "0\n",
            "\n",
            "Total Correct: 154\n",
            "Total Incorrect: 6\n",
            "Total: 160\n",
            "-----------------------------\n",
            "\n"
          ],
          "name": "stdout"
        },
        {
          "output_type": "stream",
          "text": [
            "100%|██████████| 300/300 [00:03<00:00, 94.12it/s]\n",
            "  3%|▎         | 10/300 [00:00<00:02, 97.77it/s]"
          ],
          "name": "stderr"
        },
        {
          "output_type": "stream",
          "text": [
            "average probability of fakeness: 0.9922087680209767\n",
            "Percentage of fakeness: 99.2209\n",
            "average probability of realness: 0.0077912350889991185\n",
            "Percentage of realness: 0.7791\n",
            "FAKE\n",
            "0\n",
            "\n",
            "Correct Prediction!!\n",
            "0\n",
            "\n",
            "Total Correct: 155\n",
            "Total Incorrect: 6\n",
            "Total: 161\n",
            "-----------------------------\n",
            "\n"
          ],
          "name": "stdout"
        },
        {
          "output_type": "stream",
          "text": [
            "100%|██████████| 300/300 [00:02<00:00, 135.74it/s]\n",
            "  2%|▏         | 7/300 [00:00<00:04, 59.76it/s]"
          ],
          "name": "stderr"
        },
        {
          "output_type": "stream",
          "text": [
            "average probability of fakeness: 0.9973303888525281\n",
            "Percentage of fakeness: 99.7330\n",
            "average probability of realness: 0.0026696076770349464\n",
            "Percentage of realness: 0.2670\n",
            "FAKE\n",
            "0\n",
            "\n",
            "Correct Prediction!!\n",
            "0\n",
            "\n",
            "Total Correct: 156\n",
            "Total Incorrect: 6\n",
            "Total: 162\n",
            "-----------------------------\n",
            "\n"
          ],
          "name": "stdout"
        },
        {
          "output_type": "stream",
          "text": [
            "100%|██████████| 300/300 [00:03<00:00, 92.99it/s]\n",
            "  2%|▏         | 7/300 [00:00<00:04, 62.47it/s]"
          ],
          "name": "stderr"
        },
        {
          "output_type": "stream",
          "text": [
            "average probability of fakeness: 0.9951677570740382\n",
            "Percentage of fakeness: 99.5168\n",
            "average probability of realness: 0.004832246951991692\n",
            "Percentage of realness: 0.4832\n",
            "FAKE\n",
            "0\n",
            "\n",
            "Correct Prediction!!\n",
            "0\n",
            "\n",
            "Total Correct: 157\n",
            "Total Incorrect: 6\n",
            "Total: 163\n",
            "-----------------------------\n",
            "\n"
          ],
          "name": "stdout"
        },
        {
          "output_type": "stream",
          "text": [
            "100%|██████████| 300/300 [00:02<00:00, 117.18it/s]\n",
            "  3%|▎         | 8/300 [00:00<00:03, 77.98it/s]"
          ],
          "name": "stderr"
        },
        {
          "output_type": "stream",
          "text": [
            "average probability of fakeness: 0.13709586206823587\n",
            "Percentage of fakeness: 13.7096\n",
            "average probability of realness: 0.8629041245350471\n",
            "Percentage of realness: 86.2904\n",
            "REAL\n",
            "1\n",
            "\n",
            "Correct Prediction!!\n",
            "1\n",
            "\n",
            "Total Correct: 158\n",
            "Total Incorrect: 6\n",
            "Total: 164\n",
            "-----------------------------\n",
            "\n"
          ],
          "name": "stdout"
        },
        {
          "output_type": "stream",
          "text": [
            "100%|██████████| 300/300 [00:02<00:00, 113.64it/s]\n",
            "  3%|▎         | 8/300 [00:00<00:03, 77.45it/s]"
          ],
          "name": "stderr"
        },
        {
          "output_type": "stream",
          "text": [
            "average probability of fakeness: 0.9223285555839539\n",
            "Percentage of fakeness: 92.2329\n",
            "average probability of realness: 0.0776714273786638\n",
            "Percentage of realness: 7.7671\n",
            "FAKE\n",
            "0\n",
            "\n",
            "Correct Prediction!!\n",
            "0\n",
            "\n",
            "Total Correct: 159\n",
            "Total Incorrect: 6\n",
            "Total: 165\n",
            "-----------------------------\n",
            "\n"
          ],
          "name": "stdout"
        },
        {
          "output_type": "stream",
          "text": [
            "100%|██████████| 300/300 [00:02<00:00, 114.69it/s]\n",
            "  2%|▏         | 7/300 [00:00<00:04, 60.68it/s]"
          ],
          "name": "stderr"
        },
        {
          "output_type": "stream",
          "text": [
            "average probability of fakeness: 0.5123288586735726\n",
            "Percentage of fakeness: 51.2329\n",
            "average probability of realness: 0.48767114281654356\n",
            "Percentage of realness: 48.7671\n",
            "REAL\n",
            "1\n",
            "\n",
            "Incorrect.\n",
            "0\n",
            "\n",
            "Total Correct: 159\n",
            "Total Incorrect: 7\n",
            "Total: 166\n",
            "-----------------------------\n",
            "\n"
          ],
          "name": "stdout"
        },
        {
          "output_type": "stream",
          "text": [
            "100%|██████████| 300/300 [00:03<00:00, 92.36it/s]\n",
            "  2%|▏         | 5/300 [00:00<00:05, 49.96it/s]"
          ],
          "name": "stderr"
        },
        {
          "output_type": "stream",
          "text": [
            "average probability of fakeness: 0.08668405609205365\n",
            "Percentage of fakeness: 8.6684\n",
            "average probability of realness: 0.9133159399032593\n",
            "Percentage of realness: 91.3316\n",
            "REAL\n",
            "1\n",
            "\n",
            "Correct Prediction!!\n",
            "1\n",
            "\n",
            "Total Correct: 160\n",
            "Total Incorrect: 7\n",
            "Total: 167\n",
            "-----------------------------\n",
            "\n"
          ],
          "name": "stdout"
        },
        {
          "output_type": "stream",
          "text": [
            "100%|██████████| 300/300 [00:03<00:00, 91.95it/s]\n",
            "  3%|▎         | 10/300 [00:00<00:02, 97.12it/s]"
          ],
          "name": "stderr"
        },
        {
          "output_type": "stream",
          "text": [
            "average probability of fakeness: 0.9723504611424038\n",
            "Percentage of fakeness: 97.2350\n",
            "average probability of realness: 0.027649522160572815\n",
            "Percentage of realness: 2.7650\n",
            "FAKE\n",
            "0\n",
            "\n",
            "Correct Prediction!!\n",
            "0\n",
            "\n",
            "Total Correct: 161\n",
            "Total Incorrect: 7\n",
            "Total: 168\n",
            "-----------------------------\n",
            "\n"
          ],
          "name": "stdout"
        },
        {
          "output_type": "stream",
          "text": [
            "100%|██████████| 300/300 [00:02<00:00, 144.45it/s]\n",
            "  2%|▏         | 5/300 [00:00<00:06, 47.14it/s]"
          ],
          "name": "stderr"
        },
        {
          "output_type": "stream",
          "text": [
            "average probability of fakeness: 0.9907551322664533\n",
            "Percentage of fakeness: 99.0755\n",
            "average probability of realness: 0.009244844722810999\n",
            "Percentage of realness: 0.9245\n",
            "FAKE\n",
            "0\n",
            "\n",
            "Correct Prediction!!\n",
            "0\n",
            "\n",
            "Total Correct: 162\n",
            "Total Incorrect: 7\n",
            "Total: 169\n",
            "-----------------------------\n",
            "\n"
          ],
          "name": "stdout"
        },
        {
          "output_type": "stream",
          "text": [
            "100%|██████████| 300/300 [00:03<00:00, 93.47it/s]\n",
            "  2%|▏         | 6/300 [00:00<00:05, 57.52it/s]"
          ],
          "name": "stderr"
        },
        {
          "output_type": "stream",
          "text": [
            "average probability of fakeness: 0.9772457101128318\n",
            "Percentage of fakeness: 97.7246\n",
            "average probability of realness: 0.022754297643339007\n",
            "Percentage of realness: 2.2754\n",
            "FAKE\n",
            "0\n",
            "\n",
            "Correct Prediction!!\n",
            "0\n",
            "\n",
            "Total Correct: 163\n",
            "Total Incorrect: 7\n",
            "Total: 170\n",
            "-----------------------------\n",
            "\n"
          ],
          "name": "stdout"
        },
        {
          "output_type": "stream",
          "text": [
            "100%|██████████| 300/300 [00:02<00:00, 105.43it/s]\n",
            "  3%|▎         | 9/300 [00:00<00:03, 89.96it/s]"
          ],
          "name": "stderr"
        },
        {
          "output_type": "stream",
          "text": [
            "average probability of fakeness: 0.9845124036073685\n",
            "Percentage of fakeness: 98.4512\n",
            "average probability of realness: 0.01548759760013733\n",
            "Percentage of realness: 1.5488\n",
            "FAKE\n",
            "0\n",
            "\n",
            "Correct Prediction!!\n",
            "0\n",
            "\n",
            "Total Correct: 164\n",
            "Total Incorrect: 7\n",
            "Total: 171\n",
            "-----------------------------\n",
            "\n"
          ],
          "name": "stdout"
        },
        {
          "output_type": "stream",
          "text": [
            "100%|██████████| 300/300 [00:02<00:00, 140.55it/s]\n",
            "  2%|▏         | 7/300 [00:00<00:04, 64.22it/s]"
          ],
          "name": "stderr"
        },
        {
          "output_type": "stream",
          "text": [
            "average probability of fakeness: 0.0008916651120671304\n",
            "Percentage of fakeness: 0.0892\n",
            "average probability of realness: 0.9991083443164825\n",
            "Percentage of realness: 99.9108\n",
            "REAL\n",
            "1\n",
            "\n",
            "Correct Prediction!!\n",
            "1\n",
            "\n",
            "Total Correct: 165\n",
            "Total Incorrect: 7\n",
            "Total: 172\n",
            "-----------------------------\n",
            "\n"
          ],
          "name": "stdout"
        },
        {
          "output_type": "stream",
          "text": [
            "100%|██████████| 300/300 [00:03<00:00, 92.98it/s]\n",
            "  3%|▎         | 10/300 [00:00<00:03, 91.41it/s]"
          ],
          "name": "stderr"
        },
        {
          "output_type": "stream",
          "text": [
            "average probability of fakeness: 0.9953956658189947\n",
            "Percentage of fakeness: 99.5396\n",
            "average probability of realness: 0.004604323537602217\n",
            "Percentage of realness: 0.4604\n",
            "FAKE\n",
            "0\n",
            "\n",
            "Correct Prediction!!\n",
            "0\n",
            "\n",
            "Total Correct: 166\n",
            "Total Incorrect: 7\n",
            "Total: 173\n",
            "-----------------------------\n",
            "\n"
          ],
          "name": "stdout"
        },
        {
          "output_type": "stream",
          "text": [
            "100%|██████████| 300/300 [00:02<00:00, 137.59it/s]\n",
            "  3%|▎         | 8/300 [00:00<00:03, 77.57it/s]"
          ],
          "name": "stderr"
        },
        {
          "output_type": "stream",
          "text": [
            "average probability of fakeness: 0.9981949817050587\n",
            "Percentage of fakeness: 99.8195\n",
            "average probability of realness: 0.0018050117908139575\n",
            "Percentage of realness: 0.1805\n",
            "FAKE\n",
            "0\n",
            "\n",
            "Correct Prediction!!\n",
            "0\n",
            "\n",
            "Total Correct: 167\n",
            "Total Incorrect: 7\n",
            "Total: 174\n",
            "-----------------------------\n",
            "\n"
          ],
          "name": "stdout"
        },
        {
          "output_type": "stream",
          "text": [
            "100%|██████████| 300/300 [00:02<00:00, 115.14it/s]\n",
            "  3%|▎         | 8/300 [00:00<00:03, 77.65it/s]"
          ],
          "name": "stderr"
        },
        {
          "output_type": "stream",
          "text": [
            "average probability of fakeness: 0.9621488571166992\n",
            "Percentage of fakeness: 96.2149\n",
            "average probability of realness: 0.0378511236369377\n",
            "Percentage of realness: 3.7851\n",
            "FAKE\n",
            "0\n",
            "\n",
            "Correct Prediction!!\n",
            "0\n",
            "\n",
            "Total Correct: 168\n",
            "Total Incorrect: 7\n",
            "Total: 175\n",
            "-----------------------------\n",
            "\n"
          ],
          "name": "stdout"
        },
        {
          "output_type": "stream",
          "text": [
            "100%|██████████| 300/300 [00:02<00:00, 114.85it/s]\n",
            "  3%|▎         | 9/300 [00:00<00:03, 83.25it/s]"
          ],
          "name": "stderr"
        },
        {
          "output_type": "stream",
          "text": [
            "average probability of fakeness: 0.9642680704593658\n",
            "Percentage of fakeness: 96.4268\n",
            "average probability of realness: 0.035731939529068765\n",
            "Percentage of realness: 3.5732\n",
            "FAKE\n",
            "0\n",
            "\n",
            "Correct Prediction!!\n",
            "0\n",
            "\n",
            "Total Correct: 169\n",
            "Total Incorrect: 7\n",
            "Total: 176\n",
            "-----------------------------\n",
            "\n"
          ],
          "name": "stdout"
        },
        {
          "output_type": "stream",
          "text": [
            "100%|██████████| 300/300 [00:02<00:00, 121.64it/s]\n",
            "  2%|▏         | 7/300 [00:00<00:04, 58.73it/s]"
          ],
          "name": "stderr"
        },
        {
          "output_type": "stream",
          "text": [
            "average probability of fakeness: 0.1345733110084666\n",
            "Percentage of fakeness: 13.4573\n",
            "average probability of realness: 0.8654266837984324\n",
            "Percentage of realness: 86.5427\n",
            "REAL\n",
            "1\n",
            "\n",
            "Correct Prediction!!\n",
            "1\n",
            "\n",
            "Total Correct: 170\n",
            "Total Incorrect: 7\n",
            "Total: 177\n",
            "-----------------------------\n",
            "\n"
          ],
          "name": "stdout"
        },
        {
          "output_type": "stream",
          "text": [
            "100%|██████████| 300/300 [00:03<00:00, 87.88it/s]\n",
            "  2%|▏         | 7/300 [00:00<00:04, 67.19it/s]"
          ],
          "name": "stderr"
        },
        {
          "output_type": "stream",
          "text": [
            "average probability of fakeness: 0.22195835078442047\n",
            "Percentage of fakeness: 22.1958\n",
            "average probability of realness: 0.778041663494977\n",
            "Percentage of realness: 77.8042\n",
            "REAL\n",
            "1\n",
            "\n",
            "Correct Prediction!!\n",
            "1\n",
            "\n",
            "Total Correct: 171\n",
            "Total Incorrect: 7\n",
            "Total: 178\n",
            "-----------------------------\n",
            "\n"
          ],
          "name": "stdout"
        },
        {
          "output_type": "stream",
          "text": [
            "100%|██████████| 300/300 [00:02<00:00, 116.36it/s]\n",
            "  2%|▏         | 5/300 [00:00<00:05, 49.84it/s]"
          ],
          "name": "stderr"
        },
        {
          "output_type": "stream",
          "text": [
            "average probability of fakeness: 0.9859418381344188\n",
            "Percentage of fakeness: 98.5942\n",
            "average probability of realness: 0.014058148529743035\n",
            "Percentage of realness: 1.4058\n",
            "FAKE\n",
            "0\n",
            "\n",
            "Correct Prediction!!\n",
            "0\n",
            "\n",
            "Total Correct: 172\n",
            "Total Incorrect: 7\n",
            "Total: 179\n",
            "-----------------------------\n",
            "\n"
          ],
          "name": "stdout"
        },
        {
          "output_type": "stream",
          "text": [
            "100%|██████████| 300/300 [00:03<00:00, 93.80it/s]\n",
            "  2%|▏         | 7/300 [00:00<00:04, 61.96it/s]"
          ],
          "name": "stderr"
        },
        {
          "output_type": "stream",
          "text": [
            "average probability of fakeness: 0.9797371625900269\n",
            "Percentage of fakeness: 97.9737\n",
            "average probability of realness: 0.020262862117912544\n",
            "Percentage of realness: 2.0263\n",
            "FAKE\n",
            "0\n",
            "\n",
            "Correct Prediction!!\n",
            "0\n",
            "\n",
            "Total Correct: 173\n",
            "Total Incorrect: 7\n",
            "Total: 180\n",
            "-----------------------------\n",
            "\n"
          ],
          "name": "stdout"
        },
        {
          "output_type": "stream",
          "text": [
            "100%|██████████| 300/300 [00:03<00:00, 87.36it/s]\n",
            "  3%|▎         | 8/300 [00:00<00:03, 78.81it/s]"
          ],
          "name": "stderr"
        },
        {
          "output_type": "stream",
          "text": [
            "average probability of fakeness: 0.8745496518909931\n",
            "Percentage of fakeness: 87.4550\n",
            "average probability of realness: 0.12545034561189822\n",
            "Percentage of realness: 12.5450\n",
            "FAKE\n",
            "0\n",
            "\n",
            "Correct Prediction!!\n",
            "0\n",
            "\n",
            "Total Correct: 174\n",
            "Total Incorrect: 7\n",
            "Total: 181\n",
            "-----------------------------\n",
            "\n"
          ],
          "name": "stdout"
        },
        {
          "output_type": "stream",
          "text": [
            "100%|██████████| 300/300 [00:02<00:00, 116.69it/s]\n",
            "  2%|▏         | 7/300 [00:00<00:04, 59.14it/s]"
          ],
          "name": "stderr"
        },
        {
          "output_type": "stream",
          "text": [
            "average probability of fakeness: 0.6933151073753834\n",
            "Percentage of fakeness: 69.3315\n",
            "average probability of realness: 0.3066849088296294\n",
            "Percentage of realness: 30.6685\n",
            "REAL\n",
            "1\n",
            "\n",
            "Incorrect.\n",
            "0\n",
            "\n",
            "Total Correct: 174\n",
            "Total Incorrect: 8\n",
            "Total: 182\n",
            "-----------------------------\n",
            "\n"
          ],
          "name": "stdout"
        },
        {
          "output_type": "stream",
          "text": [
            "100%|██████████| 300/300 [00:03<00:00, 93.68it/s]\n",
            "  3%|▎         | 10/300 [00:00<00:03, 95.81it/s]"
          ],
          "name": "stderr"
        },
        {
          "output_type": "stream",
          "text": [
            "average probability of fakeness: 0.9948764443397522\n",
            "Percentage of fakeness: 99.4876\n",
            "average probability of realness: 0.005123559605635819\n",
            "Percentage of realness: 0.5124\n",
            "FAKE\n",
            "0\n",
            "\n",
            "Correct Prediction!!\n",
            "0\n",
            "\n",
            "Total Correct: 175\n",
            "Total Incorrect: 8\n",
            "Total: 183\n",
            "-----------------------------\n",
            "\n"
          ],
          "name": "stdout"
        },
        {
          "output_type": "stream",
          "text": [
            "100%|██████████| 300/300 [00:02<00:00, 145.09it/s]\n",
            "  2%|▏         | 7/300 [00:00<00:04, 63.38it/s]"
          ],
          "name": "stderr"
        },
        {
          "output_type": "stream",
          "text": [
            "average probability of fakeness: 0.9901606027896588\n",
            "Percentage of fakeness: 99.0161\n",
            "average probability of realness: 0.009839387379962808\n",
            "Percentage of realness: 0.9839\n",
            "FAKE\n",
            "0\n",
            "\n",
            "Correct Prediction!!\n",
            "0\n",
            "\n",
            "Total Correct: 176\n",
            "Total Incorrect: 8\n",
            "Total: 184\n",
            "-----------------------------\n",
            "\n"
          ],
          "name": "stdout"
        },
        {
          "output_type": "stream",
          "text": [
            "100%|██████████| 300/300 [00:03<00:00, 91.25it/s]\n",
            "  2%|▏         | 6/300 [00:00<00:04, 59.15it/s]"
          ],
          "name": "stderr"
        },
        {
          "output_type": "stream",
          "text": [
            "average probability of fakeness: 0.14215819565155965\n",
            "Percentage of fakeness: 14.2158\n",
            "average probability of realness: 0.8578417870131406\n",
            "Percentage of realness: 85.7842\n",
            "REAL\n",
            "1\n",
            "\n",
            "Correct Prediction!!\n",
            "1\n",
            "\n",
            "Total Correct: 177\n",
            "Total Incorrect: 8\n",
            "Total: 185\n",
            "-----------------------------\n",
            "\n"
          ],
          "name": "stdout"
        },
        {
          "output_type": "stream",
          "text": [
            "100%|██████████| 300/300 [00:02<00:00, 108.82it/s]\n",
            "  3%|▎         | 8/300 [00:00<00:03, 77.55it/s]"
          ],
          "name": "stderr"
        },
        {
          "output_type": "stream",
          "text": [
            "average probability of fakeness: 0.9995490133762359\n",
            "Percentage of fakeness: 99.9549\n",
            "average probability of realness: 0.00045100998795533087\n",
            "Percentage of realness: 0.0451\n",
            "FAKE\n",
            "0\n",
            "\n",
            "Correct Prediction!!\n",
            "0\n",
            "\n",
            "Total Correct: 178\n",
            "Total Incorrect: 8\n",
            "Total: 186\n",
            "-----------------------------\n",
            "\n"
          ],
          "name": "stdout"
        },
        {
          "output_type": "stream",
          "text": [
            "100%|██████████| 300/300 [00:02<00:00, 108.57it/s]\n",
            "  3%|▎         | 9/300 [00:00<00:03, 76.89it/s]"
          ],
          "name": "stderr"
        },
        {
          "output_type": "stream",
          "text": [
            "average probability of fakeness: 0.9997712194919586\n",
            "Percentage of fakeness: 99.9771\n",
            "average probability of realness: 0.00022877852379679097\n",
            "Percentage of realness: 0.0229\n",
            "FAKE\n",
            "0\n",
            "\n",
            "Correct Prediction!!\n",
            "0\n",
            "\n",
            "Total Correct: 179\n",
            "Total Incorrect: 8\n",
            "Total: 187\n",
            "-----------------------------\n",
            "\n"
          ],
          "name": "stdout"
        },
        {
          "output_type": "stream",
          "text": [
            "100%|██████████| 300/300 [00:02<00:00, 113.50it/s]\n",
            "  3%|▎         | 10/300 [00:00<00:02, 96.99it/s]"
          ],
          "name": "stderr"
        },
        {
          "output_type": "stream",
          "text": [
            "average probability of fakeness: 0.9992623805999756\n",
            "Percentage of fakeness: 99.9262\n",
            "average probability of realness: 0.0007376097477390431\n",
            "Percentage of realness: 0.0738\n",
            "FAKE\n",
            "0\n",
            "\n",
            "Correct Prediction!!\n",
            "0\n",
            "\n",
            "Total Correct: 180\n",
            "Total Incorrect: 8\n",
            "Total: 188\n",
            "-----------------------------\n",
            "\n"
          ],
          "name": "stdout"
        },
        {
          "output_type": "stream",
          "text": [
            "100%|██████████| 300/300 [00:02<00:00, 131.58it/s]\n",
            "  3%|▎         | 8/300 [00:00<00:03, 76.81it/s]"
          ],
          "name": "stderr"
        },
        {
          "output_type": "stream",
          "text": [
            "average probability of fakeness: 0.9943776955971351\n",
            "Percentage of fakeness: 99.4378\n",
            "average probability of realness: 0.005622295300222154\n",
            "Percentage of realness: 0.5622\n",
            "FAKE\n",
            "0\n",
            "\n",
            "Correct Prediction!!\n",
            "0\n",
            "\n",
            "Total Correct: 181\n",
            "Total Incorrect: 8\n",
            "Total: 189\n",
            "-----------------------------\n",
            "\n"
          ],
          "name": "stdout"
        },
        {
          "output_type": "stream",
          "text": [
            "100%|██████████| 300/300 [00:02<00:00, 109.07it/s]\n",
            "  2%|▏         | 7/300 [00:00<00:04, 67.14it/s]"
          ],
          "name": "stderr"
        },
        {
          "output_type": "stream",
          "text": [
            "average probability of fakeness: 0.999620234966278\n",
            "Percentage of fakeness: 99.9620\n",
            "average probability of realness: 0.0003797657880568295\n",
            "Percentage of realness: 0.0380\n",
            "FAKE\n",
            "0\n",
            "\n",
            "Correct Prediction!!\n",
            "0\n",
            "\n",
            "Total Correct: 182\n",
            "Total Incorrect: 8\n",
            "Total: 190\n",
            "-----------------------------\n",
            "\n"
          ],
          "name": "stdout"
        },
        {
          "output_type": "stream",
          "text": [
            "100%|██████████| 300/300 [00:02<00:00, 118.04it/s]\n",
            "  2%|▏         | 7/300 [00:00<00:04, 61.67it/s]"
          ],
          "name": "stderr"
        },
        {
          "output_type": "stream",
          "text": [
            "average probability of fakeness: 0.2450607891587424\n",
            "Percentage of fakeness: 24.5061\n",
            "average probability of realness: 0.7549392124637961\n",
            "Percentage of realness: 75.4939\n",
            "REAL\n",
            "1\n",
            "\n",
            "Correct Prediction!!\n",
            "1\n",
            "\n",
            "Total Correct: 183\n",
            "Total Incorrect: 8\n",
            "Total: 191\n",
            "-----------------------------\n",
            "\n"
          ],
          "name": "stdout"
        },
        {
          "output_type": "stream",
          "text": [
            "100%|██████████| 300/300 [00:03<00:00, 91.08it/s]\n",
            "  3%|▎         | 8/300 [00:00<00:03, 75.90it/s]"
          ],
          "name": "stderr"
        },
        {
          "output_type": "stream",
          "text": [
            "average probability of fakeness: 0.1375555893298172\n",
            "Percentage of fakeness: 13.7556\n",
            "average probability of realness: 0.8624444124954087\n",
            "Percentage of realness: 86.2444\n",
            "REAL\n",
            "1\n",
            "\n",
            "Correct Prediction!!\n",
            "1\n",
            "\n",
            "Total Correct: 184\n",
            "Total Incorrect: 8\n",
            "Total: 192\n",
            "-----------------------------\n",
            "\n"
          ],
          "name": "stdout"
        },
        {
          "output_type": "stream",
          "text": [
            "100%|██████████| 300/300 [00:02<00:00, 129.27it/s]\n",
            "  2%|▏         | 6/300 [00:00<00:04, 59.22it/s]"
          ],
          "name": "stderr"
        },
        {
          "output_type": "stream",
          "text": [
            "average probability of fakeness: 0.23302445964171575\n",
            "Percentage of fakeness: 23.3024\n",
            "average probability of realness: 0.7669755539723805\n",
            "Percentage of realness: 76.6976\n",
            "REAL\n",
            "1\n",
            "\n",
            "Correct Prediction!!\n",
            "1\n",
            "\n",
            "Total Correct: 185\n",
            "Total Incorrect: 8\n",
            "Total: 193\n",
            "-----------------------------\n",
            "\n"
          ],
          "name": "stdout"
        },
        {
          "output_type": "stream",
          "text": [
            "100%|██████████| 300/300 [00:03<00:00, 91.55it/s]\n",
            "  2%|▏         | 7/300 [00:00<00:04, 60.46it/s]"
          ],
          "name": "stderr"
        },
        {
          "output_type": "stream",
          "text": [
            "average probability of fakeness: 0.9757834553718567\n",
            "Percentage of fakeness: 97.5783\n",
            "average probability of realness: 0.024216549686389043\n",
            "Percentage of realness: 2.4217\n",
            "FAKE\n",
            "0\n",
            "\n",
            "Correct Prediction!!\n",
            "0\n",
            "\n",
            "Total Correct: 186\n",
            "Total Incorrect: 8\n",
            "Total: 194\n",
            "-----------------------------\n",
            "\n"
          ],
          "name": "stdout"
        },
        {
          "output_type": "stream",
          "text": [
            "100%|██████████| 300/300 [00:03<00:00, 95.36it/s]\n",
            "  2%|▏         | 5/300 [00:00<00:05, 49.30it/s]"
          ],
          "name": "stderr"
        },
        {
          "output_type": "stream",
          "text": [
            "average probability of fakeness: 0.993011838859982\n",
            "Percentage of fakeness: 99.3012\n",
            "average probability of realness: 0.006988178373527869\n",
            "Percentage of realness: 0.6988\n",
            "FAKE\n",
            "0\n",
            "\n",
            "Correct Prediction!!\n",
            "0\n",
            "\n",
            "Total Correct: 187\n",
            "Total Incorrect: 8\n",
            "Total: 195\n",
            "-----------------------------\n",
            "\n"
          ],
          "name": "stdout"
        },
        {
          "output_type": "stream",
          "text": [
            "100%|██████████| 300/300 [00:03<00:00, 85.34it/s]\n",
            "  2%|▏         | 7/300 [00:00<00:04, 65.59it/s]"
          ],
          "name": "stderr"
        },
        {
          "output_type": "stream",
          "text": [
            "average probability of fakeness: 0.12330967576860491\n",
            "Percentage of fakeness: 12.3310\n",
            "average probability of realness: 0.8766903358957042\n",
            "Percentage of realness: 87.6690\n",
            "REAL\n",
            "1\n",
            "\n",
            "Correct Prediction!!\n",
            "1\n",
            "\n",
            "Total Correct: 188\n",
            "Total Incorrect: 8\n",
            "Total: 196\n",
            "-----------------------------\n",
            "\n"
          ],
          "name": "stdout"
        },
        {
          "output_type": "stream",
          "text": [
            "100%|██████████| 300/300 [00:02<00:00, 107.46it/s]\n",
            "  4%|▎         | 11/300 [00:00<00:02, 105.19it/s]"
          ],
          "name": "stderr"
        },
        {
          "output_type": "stream",
          "text": [
            "average probability of fakeness: 0.9955753087997437\n",
            "Percentage of fakeness: 99.5575\n",
            "average probability of realness: 0.004424690014730004\n",
            "Percentage of realness: 0.4425\n",
            "FAKE\n",
            "0\n",
            "\n",
            "Correct Prediction!!\n",
            "0\n",
            "\n",
            "Total Correct: 189\n",
            "Total Incorrect: 8\n",
            "Total: 197\n",
            "-----------------------------\n",
            "\n"
          ],
          "name": "stdout"
        },
        {
          "output_type": "stream",
          "text": [
            "100%|██████████| 300/300 [00:02<00:00, 144.88it/s]\n",
            "  3%|▎         | 8/300 [00:00<00:03, 79.99it/s]"
          ],
          "name": "stderr"
        },
        {
          "output_type": "stream",
          "text": [
            "average probability of fakeness: 0.08209926697732457\n",
            "Percentage of fakeness: 8.2099\n",
            "average probability of realness: 0.9179007302631031\n",
            "Percentage of realness: 91.7901\n",
            "REAL\n",
            "1\n",
            "\n",
            "Correct Prediction!!\n",
            "1\n",
            "\n",
            "Total Correct: 190\n",
            "Total Incorrect: 8\n",
            "Total: 198\n",
            "-----------------------------\n",
            "\n"
          ],
          "name": "stdout"
        },
        {
          "output_type": "stream",
          "text": [
            "100%|██████████| 300/300 [00:02<00:00, 116.64it/s]\n",
            "  2%|▏         | 5/300 [00:00<00:06, 48.76it/s]"
          ],
          "name": "stderr"
        },
        {
          "output_type": "stream",
          "text": [
            "average probability of fakeness: 0.9540669255786471\n",
            "Percentage of fakeness: 95.4067\n",
            "average probability of realness: 0.04593306562552849\n",
            "Percentage of realness: 4.5933\n",
            "FAKE\n",
            "0\n",
            "\n",
            "Correct Prediction!!\n",
            "0\n",
            "\n",
            "Total Correct: 191\n",
            "Total Incorrect: 8\n",
            "Total: 199\n",
            "-----------------------------\n",
            "\n"
          ],
          "name": "stdout"
        },
        {
          "output_type": "stream",
          "text": [
            "100%|██████████| 300/300 [00:03<00:00, 92.37it/s]\n"
          ],
          "name": "stderr"
        },
        {
          "output_type": "stream",
          "text": [
            "average probability of fakeness: 0.9882213672002157\n",
            "Percentage of fakeness: 98.8221\n",
            "average probability of realness: 0.01177863659298358\n",
            "Percentage of realness: 1.1779\n",
            "FAKE\n",
            "0\n",
            "\n",
            "Correct Prediction!!\n",
            "0\n",
            "\n",
            "Total Correct: 192\n",
            "Total Incorrect: 8\n",
            "Total: 200\n",
            "-----------------------------\n",
            "\n"
          ],
          "name": "stdout"
        }
      ]
    },
    {
      "cell_type": "code",
      "metadata": {
        "id": "4xqmT6Pl2q8Z"
      },
      "source": [
        "print((data['idzntwkkjy.mp4']['label']=='REAL')*1)"
      ],
      "execution_count": null,
      "outputs": []
    },
    {
      "cell_type": "code",
      "metadata": {
        "id": "skEw_IS-hEBB",
        "colab": {
          "base_uri": "https://localhost:8080/"
        },
        "outputId": "f52e81a5-a0dc-4e0f-bd4c-7b6c13449eef"
      },
      "source": [
        "import cv2\n",
        "cv2.imread('/content/tempOutput/image0.jpg').shape"
      ],
      "execution_count": null,
      "outputs": [
        {
          "output_type": "execute_result",
          "data": {
            "text/plain": [
              "(160, 160, 3)"
            ]
          },
          "metadata": {
            "tags": []
          },
          "execution_count": 14
        }
      ]
    },
    {
      "cell_type": "code",
      "metadata": {
        "id": "S9XS7n8h-KC0"
      },
      "source": [],
      "execution_count": null,
      "outputs": []
    }
  ]
}